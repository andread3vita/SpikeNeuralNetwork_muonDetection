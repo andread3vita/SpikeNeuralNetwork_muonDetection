{
  "nbformat": 4,
  "nbformat_minor": 0,
  "metadata": {
    "colab": {
      "provenance": [],
      "include_colab_link": true
    },
    "kernelspec": {
      "name": "python3",
      "display_name": "Python 3"
    },
    "language_info": {
      "name": "python"
    }
  },
  "cells": [
    {
      "cell_type": "markdown",
      "metadata": {
        "id": "view-in-github",
        "colab_type": "text"
      },
      "source": [
        "<a href=\"https://colab.research.google.com/github/enlupi/SNN-MUC/blob/main/Scripts/DTFastSim.ipynb\" target=\"_parent\"><img src=\"https://colab.research.google.com/assets/colab-badge.svg\" alt=\"Open In Colab\"/></a>"
      ]
    },
    {
      "cell_type": "code",
      "execution_count": null,
      "metadata": {
        "id": "VLIjTLXxqimK"
      },
      "outputs": [],
      "source": [
        "import random as rnd\n",
        "import numpy as np\n",
        "import math"
      ]
    },
    {
      "cell_type": "code",
      "source": [
        "DURATION = {\n",
        "    'orbit:bx': 3564,\n",
        "    'orbit': 3564*25,\n",
        "    'bx': 25.,\n",
        "    'tdc': 25./30\n",
        "}\n",
        "\n",
        "XCELL = 42. # cell width in mm\n",
        "ZCELL = 13. # cell height in mm\n",
        "\n",
        "TDRIFT    = 15.6*DURATION['bx']  # drift time in ns\n",
        "VDRIFT    = XCELL*0.5 / TDRIFT   # drift velocity in mm/ns\n",
        "\n",
        "## shifts\n",
        "pos_shift_z  = [-ZCELL*1.5,   -ZCELL*0.5,     ZCELL*0.5,     ZCELL*1.5, ]\n",
        "pos_shift_x  = [-XCELL,       -XCELL*1.5,    -XCELL,        -XCELL*1.5, ]\n",
        "cnt_shift_x  = [-0.5, 0, -0.5, 0]\n",
        "\n",
        "# mappings\n",
        "WIRE_MAP = {1:'A', 2:'B', 3:'C', 4:'D'}\n",
        "SIDE_MAP = {-1:'L',1:'R'}\n",
        "\n",
        "LAYER_MAP = [-99, 3, 2, 1, 0]"
      ],
      "metadata": {
        "id": "mczzQXqOqnGa"
      },
      "execution_count": null,
      "outputs": []
    },
    {
      "cell_type": "code",
      "source": [
        "def correct_hit(psi, dx):\n",
        "    ## corrections\n",
        "    slope = 4\n",
        "    offset = 6#4\n",
        "    linear_factor = 15\n",
        "\n",
        "    # region near the wire\n",
        "    x0 = (offset+linear_factor*math.pow(math.tan(psi),1.5)) / slope\n",
        "\n",
        "    if dx<=x0:\n",
        "        # linear relation\n",
        "        return offset+linear_factor*math.pow(math.tan(psi),1.5) - slope*dx\n",
        "    else:\n",
        "        return  0#-5*math.tan(psi)*np.sin(math.tan(psi)*4*math.pi/15*(dx-x0))"
      ],
      "metadata": {
        "id": "wWkmyOv4q5Lt"
      },
      "execution_count": null,
      "outputs": []
    },
    {
      "cell_type": "code",
      "source": [
        "def generate_muon(bx0, useIdealEF=False):\n",
        "\n",
        "    tdc0 = np.random.randint(0,30)\n",
        "    angle = rnd.uniform(math.pi*1./4., math.pi*3./4.)\n",
        "\n",
        "    m = math.tan(angle)\n",
        "    entry_point = rnd.uniform(-2*XCELL, 2*XCELL + XCELL/2)\n",
        "    q = - m*entry_point\n",
        "\n",
        "    psi = math.pi/2-angle\n",
        "\n",
        "    muon_hits = []\n",
        "\n",
        "    wire_pattern = ''\n",
        "    side_pattern = ''\n",
        "\n",
        "    for l in [0,1,2,3]:\n",
        "        x = (pos_shift_z[l] - q)/m\n",
        "\n",
        "        # apply smearing\n",
        "        x += 0.25*np.random.randn()\n",
        "\n",
        "        # find the wire\n",
        "        nw = math.floor((x+(2+cnt_shift_x[l])*XCELL)/XCELL)+1\n",
        "\n",
        "        # remove hits outside the macrocell\n",
        "        if nw < 1 or nw > 4: continue\n",
        "\n",
        "        # find the distance from the wire\n",
        "        dx = x - pos_shift_x[l] - (nw-1)*XCELL\n",
        "\n",
        "        # remove hits in the I\n",
        "        if abs(dx) >= (21 - 1.4/2):\n",
        "            continue\n",
        "\n",
        "        ## apply EF dishomogeneity\n",
        "        # drift time\n",
        "        t = abs(dx) / VDRIFT\n",
        "\n",
        "        if not useIdealEF:\n",
        "            t -= 19.79*math.pow(math.tan(psi),2)\n",
        "            t += correct_hit(abs(psi), abs(dx))\n",
        "\n",
        "        # compute BX and TDC\n",
        "        bx = t // DURATION['bx']\n",
        "        dt = t % DURATION['bx']\n",
        "\n",
        "\n",
        "        tdc_meas = (int(np.floor(dt/DURATION['tdc'])) + tdc0) % 30\n",
        "        bx_counter = int(bx0 + bx) + (int(np.floor(dt/DURATION['tdc'])) + tdc0)//30\n",
        "\n",
        "        wire_pattern += f\"{l+1}{WIRE_MAP[nw]}\"\n",
        "        side_pattern += f\"{SIDE_MAP[1 if dx>0 else -1]}\"\n",
        "\n",
        "        muon_hits.append({\n",
        "            'layer': l + 1,\n",
        "            'wire_num': nw,\n",
        "            'bx': bx_counter,\n",
        "            'tdc': tdc_meas,\n",
        "            'label': 1 if dx>0 else -1,\n",
        "            't0': bx0+tdc0/30,\n",
        "            'psi': psi,\n",
        "            'x0': entry_point,\n",
        "        })\n",
        "\n",
        "    # get expected eq label\n",
        "    \"\"\" wire_pos, side = wire_pattern, side_pattern\n",
        "    wire_nums = [int(wire_pos[i])-1 for i in range(0,len(wire_pos),2)]\n",
        "\n",
        "    if (side[:3] in ['LLL', 'RRR']) and (len(side)==4):\n",
        "        wire_pos = wire_pos[2:]\n",
        "        side = side[1:]\n",
        "    else:\n",
        "        wire_pos = wire_pos[:6]\n",
        "        side = side[:3]\n",
        "\n",
        "    selected_pattern = f'{wire_pos}-{side}'\n",
        "    eq_label = find_label_from_pattern(selected_pattern)\"\"\"\n",
        "\n",
        "    return muon_hits, f'{wire_pattern}-{side_pattern}' #,eq_label"
      ],
      "metadata": {
        "id": "HapelSfZqrVP"
      },
      "execution_count": null,
      "outputs": []
    },
    {
      "cell_type": "code",
      "source": [
        "def get_event(bx0):\n",
        "    valid_event_flag = False\n",
        "    num_muon_hits = 0\n",
        "    while not valid_event_flag:\n",
        "        muon_hits, gen_pattern = generate_muon(bx0)\n",
        "        if len(muon_hits)>=3:\n",
        "            lat = gen_pattern.split('-')[1]\n",
        "            if lat not in ['LLL', 'RRR']:\n",
        "                valid_event_flag = True\n",
        "                num_muon_hits = len(muon_hits)\n",
        "\n",
        "    # add noise\n",
        "    num_hits = len(muon_hits)\n",
        "\n",
        "    return muon_hits, gen_pattern, num_muon_hits, num_hits"
      ],
      "metadata": {
        "id": "xBLrYIa9qtzK"
      },
      "execution_count": null,
      "outputs": []
    },
    {
      "cell_type": "code",
      "source": [
        "# generate a single event at BX0=500\n",
        "muon_hits, pattern, num_muon_hits, num_hits = get_event(500)\n",
        "\n",
        "print(muon_hits)\n",
        "print(pattern)"
      ],
      "metadata": {
        "colab": {
          "base_uri": "https://localhost:8080/"
        },
        "id": "uyun77tkq1pZ",
        "outputId": "6846194f-d841-4380-c0ae-e19551dffa39"
      },
      "execution_count": null,
      "outputs": [
        {
          "output_type": "stream",
          "name": "stdout",
          "text": [
            "[{'layer': 1, 'wire_num': 4, 'bx': 513, 'tdc': 7, 'label': -1, 't0': 500.9, 'psi': -0.16775952117831872, 'x0': 64.02698159547165}, {'layer': 2, 'wire_num': 4, 'bx': 502, 'tdc': 11, 'label': 1, 't0': 500.9, 'psi': -0.16775952117831872, 'x0': 64.02698159547165}, {'layer': 4, 'wire_num': 4, 'bx': 502, 'tdc': 13, 'label': -1, 't0': 500.9, 'psi': -0.16775952117831872, 'x0': 64.02698159547165}]\n",
            "1D2D4D-LRL\n"
          ]
        }
      ]
    },
    {
      "cell_type": "code",
      "source": [
        "## event data structure\n",
        "# ev_id\n",
        "# MC (4x4):\n",
        "#  - hit (bx, tdc, label)\n",
        "# t0\n",
        "# angle\n",
        "# x0\n",
        "# n_true_hits\n",
        "# n_hits\n",
        "# pattern\n",
        "\n",
        "hit_dtype = np.dtype([\n",
        "    ('bx', np.int16),\n",
        "    ('tdc', np.int16),\n",
        "    ('label', np.int8)\n",
        "])\n",
        "\n",
        "gen_event_dtype = np.dtype([\n",
        "    ('id', np.int16),\n",
        "    ('mc', hit_dtype, (4,4)),\n",
        "    ('t0', np.float32),\n",
        "    ('angle', np.float16),\n",
        "    ('x0', np.float16),\n",
        "    ('n_true_hits', np.int8),\n",
        "    ('n_hits', np.int8)\n",
        "])"
      ],
      "metadata": {
        "id": "Me_hYWapqzBi"
      },
      "execution_count": null,
      "outputs": []
    },
    {
      "cell_type": "code",
      "source": [
        "# fill event structure\n",
        "def hits_to_numpy(event, muon_hits):\n",
        "    for hit in muon_hits:\n",
        "        layer, wire = hit['layer']-1, hit['wire_num']-1\n",
        "\n",
        "        curr_mc = event['mc'][::-1]\n",
        "        curr_mc['bx'][layer, wire] = hit['bx']\n",
        "        curr_mc['tdc'][layer, wire] = hit['tdc']\n",
        "        curr_mc['label'][layer, wire] = hit['label']\n",
        "\n",
        "    event['t0'] = muon_hits[0]['t0']\n",
        "    event['angle'] = muon_hits[0]['psi']\n",
        "    event['x0'] = muon_hits[0]['x0']\n",
        "\n",
        "    event['n_hits'] = np.count_nonzero(event['mc']['bx']!=-1)\n",
        "    event['n_true_hits'] = np.count_nonzero(event['mc']['label']!=0)\n",
        "\n",
        "def numpy_to_hits(event):\n",
        "    muon_hits = []\n",
        "\n",
        "    # find hits in macrocell\n",
        "    curr_mc = event['mc'][::-1]\n",
        "\n",
        "    hits_idx = np.where(curr_mc['bx']!=-1)\n",
        "    for l, w in zip(*hits_idx):\n",
        "        muon_hits.append({\n",
        "            'layer': l+1,\n",
        "            'wire_num': w+1,\n",
        "            'bx': curr_mc['bx'][l, w],\n",
        "            'tdc': curr_mc['tdc'][l, w],\n",
        "            'label': curr_mc['label'][l,w],\n",
        "            't0': event['t0'],\n",
        "            'psi': event['angle'],\n",
        "            'x0': event['x0']\n",
        "        })\n",
        "\n",
        "    return muon_hits"
      ],
      "metadata": {
        "id": "QLfzbMYSq6aH"
      },
      "execution_count": null,
      "outputs": []
    },
    {
      "cell_type": "code",
      "source": [
        "import tqdm\n",
        "\n",
        "num_events = 20000\n",
        "\n",
        "events_arr_no_noise = np.zeros(num_events, dtype=gen_event_dtype)\n",
        "events_arr_no_noise['mc']['bx'] = -1\n",
        "events_arr_no_noise['mc']['tdc'] = -1\n",
        "\n",
        "for ev_id in tqdm.tqdm(range(num_events)):\n",
        "    muon_hits, pattern, num_muon_hits, num_hits = get_event(500)\n",
        "\n",
        "    events_arr_no_noise[ev_id]['id'] = ev_id\n",
        "    hits_to_numpy(events_arr_no_noise[ev_id], muon_hits)"
      ],
      "metadata": {
        "colab": {
          "base_uri": "https://localhost:8080/"
        },
        "id": "uEJnBfk1t2nj",
        "outputId": "c3e3e7af-4ebd-467f-e50f-bc2f60f20f3f"
      },
      "execution_count": null,
      "outputs": [
        {
          "output_type": "stream",
          "name": "stderr",
          "text": [
            "100%|██████████| 20000/20000 [00:02<00:00, 7845.94it/s] \n"
          ]
        }
      ]
    },
    {
      "cell_type": "code",
      "source": [
        "import matplotlib.pyplot as plt\n",
        "from matplotlib.patches import Rectangle\n",
        "plt.rcParams.update({'figure.max_open_warning': 0})\n",
        "\n",
        "\n",
        "DURATION = {\n",
        "    'orbit:bx': 3564,\n",
        "    'orbit': 3564*25,\n",
        "    'bx': 25.,\n",
        "    'tdc': 25./30\n",
        "}\n",
        "\n",
        "NWIRES = 4\n",
        "\n",
        "XCELL = 42. # cell width in mm\n",
        "ZCELL = 13. # cell height in mm\n",
        "\n",
        "WIRE_DIAM     = 0.050 # in mm\n",
        "PLANE_WIDTH   = 1.5 # in mm\n",
        "IBEAM_WIDTH   = 1.3  # in mm FROM https://github.com/cms-sw/cmssw/blob/master/Geometry/DTGeometry/src/DTTopology.cc\n",
        "IBEAM_WING    = 6.35  # in mm FROM https://github.com/cms-sw/cmssw/blob/master/Geometry/DTGeometry/src/DTTopology.cc\n",
        "\n",
        "TM        = 15.5\n",
        "TDRIFT    = TM*DURATION['bx']  # drift time in ns\n",
        "VDRIFT    = XCELL*0.5 / TDRIFT   # drift velocity in mm/ns\n",
        "VDRIFTMMBX= XCELL*0.5 / TM       # drift velocity in mm/BX\n",
        "VHRATIO   = XCELL*0.5/TM/ZCELL\n",
        "\n",
        "#                 L0       L1            L2             L3             L4\n",
        "pos_z       = [ np.nan, -ZCELL*1.5,   -ZCELL*0.5,     ZCELL*0.5,     ZCELL*1.5, ]\n",
        "pos_x       = [ np.nan, -XCELL,       -XCELL*1.5,    -XCELL,        -XCELL*1.5, ]\n",
        "\n",
        "\n",
        "def plot_muon(muon_hits, bx0, x0=None, m=None, t0_scint=None, save_me=False):\n",
        "    \"\"\"\n",
        "    Plot a list of muon hits\n",
        "    Args:\n",
        "        - muon_hits: list of dicts containing at least the following\n",
        "                     information:\n",
        "                        - hit layer\n",
        "                        - hit wire (in the macrocell)\n",
        "                        - hit bx\n",
        "                        - hit tdc\n",
        "                        - hit side (-1,0,1)\n",
        "        - bx0: time pedestal for this macrocell\n",
        "        - x0: local intercept of the track\n",
        "        - m: tan_psi of the track\n",
        "    \"\"\"\n",
        "\n",
        "    fig, ax = plt.subplots(1, 1, figsize=(XCELL*(NWIRES+1)/10,4*ZCELL/10))\n",
        "\n",
        "    def the_grid(the_plot):\n",
        "        for ilay in [1,2,3,4]:\n",
        "            for iwire in range(1,NWIRES+1):\n",
        "                the_plot.plot(pos_x[ilay]+XCELL*(iwire-1),pos_z[ilay],\n",
        "                              marker='.',\n",
        "                              markersize=2,\n",
        "                              color='grey',\n",
        "                              zorder=-10)\n",
        "                the_plot.add_patch(\n",
        "                    Rectangle((pos_x[ilay]-0.5*XCELL+XCELL*(iwire-1),\n",
        "                                   pos_z[ilay]-ZCELL*0.5),\n",
        "                                  XCELL,\n",
        "                                  ZCELL,\n",
        "                                 edgecolor='lightgrey',\n",
        "                                 facecolor='None',\n",
        "                             zorder=-10)\n",
        "                )\n",
        "\n",
        "    def the_planes(the_plot):\n",
        "        for ilay in [1,2,3,4]:\n",
        "            the_plot.add_patch(\n",
        "                Rectangle((pos_x[ilay]-0.5*XCELL,\n",
        "                                pos_z[ilay]-ZCELL*0.5-PLANE_WIDTH/2.),\n",
        "                              NWIRES*XCELL,\n",
        "                              PLANE_WIDTH,\n",
        "                              facecolor='darkgrey',\n",
        "                              edgecolor='None',\n",
        "                          zorder=-15)\n",
        "            )\n",
        "            the_plot.add_patch(\n",
        "                Rectangle((pos_x[ilay]-0.5*XCELL,\n",
        "                                ZCELL+pos_z[ilay]-ZCELL*0.5-PLANE_WIDTH/2.),\n",
        "                              NWIRES*XCELL,\n",
        "                              PLANE_WIDTH,\n",
        "                              facecolor='darkgrey',\n",
        "                              edgecolor='None',\n",
        "                          zorder=-15)\n",
        "            )\n",
        "\n",
        "\n",
        "    def the_ibeams(the_plot):\n",
        "        for ilay in [1,2,3,4]:\n",
        "            for iwire in range(1,NWIRES+1):\n",
        "                the_plot.add_patch(\n",
        "                    Rectangle((pos_x[ilay]-0.5*XCELL+XCELL*(iwire-1)-IBEAM_WIDTH/2,\n",
        "                                  pos_z[ilay]-ZCELL*0.5-PLANE_WIDTH/2.),\n",
        "                                  IBEAM_WIDTH,\n",
        "                                  ZCELL+PLANE_WIDTH,\n",
        "                                  facecolor='darkgrey',\n",
        "                                  edgecolor='None',\n",
        "                             zorder=-13)\n",
        "                )\n",
        "                the_plot.add_patch(\n",
        "                    Rectangle((XCELL+pos_x[ilay]-0.5*XCELL+XCELL*(iwire-1)-IBEAM_WIDTH/2,\n",
        "                                  pos_z[ilay]-ZCELL*0.5-PLANE_WIDTH/2.),\n",
        "                                  IBEAM_WIDTH,\n",
        "                                  ZCELL+PLANE_WIDTH,\n",
        "                                  facecolor='darkgrey',\n",
        "                                  edgecolor='None',\n",
        "                             zorder=-13)\n",
        "                )\n",
        "\n",
        "                the_plot.add_patch(\n",
        "                    Rectangle((XCELL+pos_x[ilay]-0.5*XCELL+XCELL*(iwire-1)-IBEAM_WING/2,\n",
        "                                  pos_z[ilay]-ZCELL*0.5+PLANE_WIDTH/2.),\n",
        "                                  IBEAM_WING,\n",
        "                                  IBEAM_WIDTH,\n",
        "                                  facecolor='darkgrey',\n",
        "                                  edgecolor='None',\n",
        "                             zorder=-13)\n",
        "                )\n",
        "                the_plot.add_patch(\n",
        "                    Rectangle((XCELL+pos_x[ilay]-0.5*XCELL+XCELL*(iwire-1)-IBEAM_WING/2,\n",
        "                                  pos_z[ilay]+ZCELL*0.5-PLANE_WIDTH/2.-IBEAM_WIDTH),\n",
        "                                  IBEAM_WING,\n",
        "                                  IBEAM_WIDTH,\n",
        "                                  facecolor='darkgrey',\n",
        "                                  edgecolor='None',\n",
        "                             zorder=-13)\n",
        "                )\n",
        "\n",
        "                the_plot.add_patch(\n",
        "                    Rectangle((XCELL+pos_x[ilay]-0.5*XCELL+XCELL*(iwire-2)-IBEAM_WING/2,\n",
        "                                  pos_z[ilay]-ZCELL*0.5+PLANE_WIDTH/2.),\n",
        "                                  IBEAM_WING,\n",
        "                                  IBEAM_WIDTH,\n",
        "                                  facecolor='darkgrey',\n",
        "                                  edgecolor='None',\n",
        "                             zorder=-13)\n",
        "                )\n",
        "                the_plot.add_patch(\n",
        "                    Rectangle((XCELL+pos_x[ilay]-0.5*XCELL+XCELL*(iwire-2)-IBEAM_WING/2,\n",
        "                                  pos_z[ilay]+ZCELL*0.5-PLANE_WIDTH/2.-IBEAM_WIDTH),\n",
        "                                  IBEAM_WING,\n",
        "                                  IBEAM_WIDTH,\n",
        "                                  facecolor='darkgrey',\n",
        "                                  edgecolor='None',\n",
        "                             zorder=-13)\n",
        "                )\n",
        "\n",
        "\n",
        "\n",
        "    the_grid(ax)\n",
        "    the_planes(ax)\n",
        "    the_ibeams(ax)\n",
        "\n",
        "    for hit in muon_hits:\n",
        "        layer, wire, bx, tdc =  hit['layer'], hit['wire_num'], hit['bx'], hit['tdc']\n",
        "        plt.scatter(pos_x[layer] + (wire-1)*XCELL, pos_z[layer], color='red')\n",
        "\n",
        "        # x left and right\n",
        "        wire_pos = pos_x[layer] + (wire-1)*XCELL\n",
        "        wire_z   = pos_z[layer]\n",
        "\n",
        "        tdrift = (bx + tdc/30 - bx0)*DURATION['bx']\n",
        "        x_drift = tdrift * VDRIFT\n",
        "        \"\"\"print(\"z: {}\".format(wire_z))\n",
        "        print(\"x-: {}\".format(wire_pos - x_drift))\n",
        "        print(\"x+: {}\".format(wire_pos + x_drift))\"\"\"\n",
        "        plt.scatter(wire_pos - x_drift, wire_z, color='green', marker=\"x\")\n",
        "        plt.scatter(wire_pos + x_drift, wire_z, color='green', marker=\"x\")\n",
        "\n",
        "        if t0_scint != None:\n",
        "            tdrift = (bx + tdc/30 - t0_scint)*DURATION['bx']\n",
        "            x_drift = tdrift * VDRIFT\n",
        "            plt.scatter(wire_pos - x_drift, wire_z,  s=80, facecolors='none', edgecolors='b')\n",
        "            plt.scatter(wire_pos + x_drift, wire_z,  s=80, facecolors='none', edgecolors='b')\n",
        "\n",
        "\n",
        "    if (x0!=None) and (m!=None):\n",
        "        bottom_x = x0 + m*(pos_z[1]-0.5*ZCELL)\n",
        "        top_x    = x0 + m*(pos_z[4]+0.5*ZCELL)\n",
        "\n",
        "        plt.plot((bottom_x,top_x),(pos_z[1]-0.5*ZCELL,pos_z[4]+0.5*ZCELL),'b-')"
      ],
      "metadata": {
        "id": "Z8RjP6-zvKmn"
      },
      "execution_count": null,
      "outputs": []
    },
    {
      "cell_type": "code",
      "source": [
        "def plot_event(event):\n",
        "    muon_hits = numpy_to_hits(event)\n",
        "    m, x0 = np.tan(muon_hits[0]['psi']), muon_hits[0]['x0']\n",
        "    t0 = muon_hits[0]['t0']\n",
        "    plot_muon(muon_hits=muon_hits, bx0=t0, m=m, x0=x0)\n",
        "\n",
        "plot_event(events_arr_no_noise[4])"
      ],
      "metadata": {
        "colab": {
          "base_uri": "https://localhost:8080/",
          "height": 461
        },
        "id": "FXGnpSiwvQdK",
        "outputId": "1346af6e-5cf5-440b-9bdc-fa7a510a2f22"
      },
      "execution_count": null,
      "outputs": [
        {
          "output_type": "display_data",
          "data": {
            "text/plain": [
              "<Figure size 2100x520 with 1 Axes>"
            ],
            "image/png": "[encoded data removed]"
          },
          "metadata": {}
        }
      ]
    },
    {
      "cell_type": "markdown",
      "source": [
        "## ADD noise\n"
      ],
      "metadata": {
        "id": "nfoyTNZzxWHJ"
      }
    },
    {
      "cell_type": "code",
      "source": [
        "bx0 = 500\n",
        "bx_oot = 10\n",
        "noise_distributions = np.concatenate([\n",
        "    np.random.triangular(bx0-bx_oot, bx0, bx0,10000),\n",
        "    np.random.uniform(bx0,bx0+16,30000),\n",
        "    np.random.triangular(bx0+16,bx0+16,bx0+16+bx_oot,10000)\n",
        "])\n",
        "\n",
        "def get_event_noise(bx0, noise_frac=0):\n",
        "    # simulate true event\n",
        "    if np.random.rand() <= 0.8:\n",
        "        valid_event_flag = False\n",
        "        num_muon_hits = 0\n",
        "        while not valid_event_flag:\n",
        "            muon_hits, gen_pattern = generate_muon(bx0)\n",
        "            if len(muon_hits)>=3:\n",
        "                lat = gen_pattern.split('-')[1]\n",
        "                if lat not in ['LLL', 'RRR']:\n",
        "                    valid_event_flag = True\n",
        "                    num_muon_hits = len(muon_hits)\n",
        "\n",
        "        # simulate cell inefficiency\n",
        "        if (num_muon_hits==4) and (np.random.rand()<=0.2):\n",
        "            # remove one hit\n",
        "            _ = muon_hits.pop(np.random.randint(4))\n",
        "\n",
        "        # add noise\n",
        "        if np.random.rand()<noise_frac:\n",
        "            # number of noise hits\n",
        "            n_noise = np.random.choice([1,2,3,4], p=[0.45,0.3,0.2,0.05])\n",
        "            t0 = muon_hits[0]['t0']\n",
        "            angle = muon_hits[0]['psi']\n",
        "            x0 = muon_hits[0]['x0']\n",
        "            for _ in range(n_noise):\n",
        "                layer,wire_num = np.random.randint(1,5), np.random.randint(1,5)\n",
        "                #bx = bx0+np.random.randint(-10,20)\n",
        "                bx = round(np.random.choice(noise_distributions, 1)[0])\n",
        "                tdc = np.random.randint(0,31)\n",
        "                label = 0\n",
        "                # check if it can be a real hit..\n",
        "                \"\"\"if bx>bx0:\n",
        "                    #tdrift = (bx-bx0+tdc/30)*25\n",
        "                    tdrift = (bx+tdc/30-t0)*25\n",
        "                    if tdrift<TDRIFT-10:\n",
        "                        dx = tdrift*VDRIFT\n",
        "                        wire_pos = pos_shift_x[layer-1] + (wire_num-1)*XCELL\n",
        "                        x_l = wire_pos - dx\n",
        "                        x_r = wire_pos + dx\n",
        "\n",
        "                        x_th = math.tan(angle)*pos_shift_z[layer-1]+x0\n",
        "\n",
        "                        res_l, res_r = abs(x_l-x_th), abs(x_r-x_th)\n",
        "\n",
        "                        if (res_l <= res_r) and (res_l<=1):\n",
        "                            label = -1\n",
        "                        elif (res_l >= res_r) and (res_r<=1):\n",
        "                            label = +1\n",
        "                        else:\n",
        "                            label = 0\"\"\"\n",
        "\n",
        "                muon_hits.append({\n",
        "                        'layer': layer,\n",
        "                        'wire_num': wire_num,\n",
        "                        'bx': bx,\n",
        "                        'tdc': tdc,\n",
        "                        'label': label,\n",
        "                        't0': t0,\n",
        "                        'psi': angle,\n",
        "                        'x0': x0\n",
        "                    })\n",
        "    else:\n",
        "        muon_hits = []\n",
        "        num_muon_hits = 0\n",
        "        n_noise = np.random.choice([1,2,3,4], p=[0.45,0.40,0.1,0.05])\n",
        "        for _ in range(n_noise):\n",
        "            layer,wire_num = np.random.randint(1,5), np.random.randint(1,5)\n",
        "            t0 = bx0\n",
        "            angle = -9\n",
        "            x0 = -9\n",
        "            bx = round(np.random.choice(noise_distributions, 1)[0])\n",
        "            tdc = np.random.randint(0,31)\n",
        "            label = 0\n",
        "            gen_pattern = ''\n",
        "            muon_hits.append({\n",
        "                'layer': layer,\n",
        "                'wire_num': wire_num,\n",
        "                'bx': bx,\n",
        "                'tdc': tdc,\n",
        "                'label': label,\n",
        "                't0': t0,\n",
        "                'psi': angle,\n",
        "                'x0': x0\n",
        "            })\n",
        "\n",
        "    # shuffle list\n",
        "    rnd.shuffle(muon_hits)\n",
        "\n",
        "    num_hits = len(muon_hits)\n",
        "\n",
        "    return muon_hits, gen_pattern, num_muon_hits, num_hits"
      ],
      "metadata": {
        "id": "_CYmVKbmxZDI"
      },
      "execution_count": null,
      "outputs": []
    },
    {
      "cell_type": "code",
      "source": [
        "## generate events\n",
        "\n",
        "num_events = 10000\n",
        "\n",
        "events_arr = np.zeros(num_events, dtype=gen_event_dtype)\n",
        "\n",
        "# initialize array\n",
        "events_arr['mc']['bx'] = -1\n",
        "events_arr['mc']['tdc'] = -1\n",
        "\n",
        "for ev_id in tqdm.tqdm(range(num_events)):\n",
        "    muon_hits, pattern, num_muon_hits, num_hits = get_event_noise(500, noise_frac=0.1)\n",
        "\n",
        "    events_arr[ev_id]['id'] = ev_id\n",
        "    hits_to_numpy(events_arr[ev_id], muon_hits)"
      ],
      "metadata": {
        "colab": {
          "base_uri": "https://localhost:8080/"
        },
        "id": "o7rWvewKxd5l",
        "outputId": "616ab013-b2d7-4d5e-ffed-91c88c54aa75"
      },
      "execution_count": null,
      "outputs": [
        {
          "output_type": "stream",
          "name": "stderr",
          "text": [
            "100%|██████████| 10000/10000 [00:03<00:00, 3328.65it/s]\n"
          ]
        }
      ]
    },
    {
      "cell_type": "code",
      "source": [
        "def plot_event(event):\n",
        "    muon_hits = numpy_to_hits(event)\n",
        "    m, x0 = np.tan(muon_hits[0]['psi']), muon_hits[0]['x0']\n",
        "    plot_muon(muon_hits=muon_hits, bx0=500, m=m, x0=x0)\n",
        "\n",
        "plot_event(events_arr[events_arr['n_hits']==5][14])"
      ],
      "metadata": {
        "colab": {
          "base_uri": "https://localhost:8080/",
          "height": 461
        },
        "id": "qgD73Kt1xkqA",
        "outputId": "0f172546-96e2-4003-85de-35c0439d2018"
      },
      "execution_count": null,
      "outputs": [
        {
          "output_type": "display_data",
          "data": {
            "text/plain": [
              "<Figure size 2100x520 with 1 Axes>"
            ],
            "image/png": "[encoded data removed]"
          },
          "metadata": {}
        }
      ]
    },
    {
      "cell_type": "code",
      "source": [
        "def get_timebox(nhits=[3,4]):\n",
        "    curr_events = events_arr[np.isin(events_arr['n_true_hits'], nhits)]\n",
        "    idxs = np.where((curr_events['mc']['bx']!=0))\n",
        "    a = (curr_events['mc']['bx']+curr_events['mc']['tdc']/30)\n",
        "    b = curr_events['t0']\n",
        "\n",
        "    return (a-b[:,np.newaxis,np.newaxis])[idxs]*25\n",
        "\n",
        "plt.figure(figsize=(8,6))\n",
        "plt.hist(\n",
        "    get_timebox([0,1,2,3,4]),\n",
        "    bins=300, range=(-299.5,700.5),\n",
        "    label = 'test'\n",
        ")\n",
        "#plt.legend()\n",
        "plt.xlabel('Drift time (ns)')\n",
        "plt.show()"
      ],
      "metadata": {
        "colab": {
          "base_uri": "https://localhost:8080/",
          "height": 542
        },
        "id": "V7isPIFh9EiC",
        "outputId": "dfc8fed5-b549-432e-ffc2-2c2d3901e3d7"
      },
      "execution_count": null,
      "outputs": [
        {
          "output_type": "display_data",
          "data": {
            "text/plain": [
              "<Figure size 800x600 with 1 Axes>"
            ],
            "image/png": "[encoded data removed]"
          },
          "metadata": {}
        }
      ]
    }
  ]
}