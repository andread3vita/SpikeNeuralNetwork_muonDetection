{
 "cells": [
  {
   "cell_type": "markdown",
   "metadata": {
    "colab_type": "text",
    "id": "view-in-github"
   },
   "source": [
    "<a href=\"https://colab.research.google.com/github/enlupi/SNN-MUC/blob/main/Scripts/DTFastSim.ipynb\" target=\"_parent\"><img src=\"https://colab.research.google.com/assets/colab-badge.svg\" alt=\"Open In Colab\"/></a>"
   ]
  },
  {
   "cell_type": "markdown",
   "metadata": {
    "id": "Rcbi-PGdeIDh"
   },
   "source": [
    "# SNN Implementation\n"
   ]
  },
  {
   "cell_type": "code",
   "execution_count": 1,
   "metadata": {},
   "outputs": [],
   "source": [
    "import GenEvents as ge\n",
    "import PlotEvents as pe\n",
    "import EventData as ed\n",
    "import Params as ps"
   ]
  },
  {
   "cell_type": "code",
   "execution_count": 2,
   "metadata": {
    "id": "VLIjTLXxqimK"
   },
   "outputs": [],
   "source": [
    "import numpy as np\n",
    "import tqdm \n",
    "import math\n",
    "\n",
    "import snntorch as snn\n",
    "import torch\n",
    "import torch.nn as nn\n",
    "\n",
    "import snntorch.spikeplot as splt\n",
    "from torchvision import transforms\n",
    "from torch.utils.data import Dataset, DataLoader\n",
    "from snntorch import surrogate\n",
    "import snntorch.functional as SF\n",
    "\n",
    "from snntorch import spikegen\n",
    "\n",
    "import matplotlib.pyplot as plt\n",
    "import snntorch.spikeplot as splt\n",
    "\n",
    "device = torch.device(\"cuda\") if torch.cuda.is_available() else torch.device(\"cpu\")"
   ]
  },
  {
   "cell_type": "markdown",
   "metadata": {},
   "source": [
    "## Create Datasets"
   ]
  },
  {
   "cell_type": "code",
   "execution_count": 3,
   "metadata": {},
   "outputs": [
    {
     "name": "stderr",
     "output_type": "stream",
     "text": [
      "100%|████████████████████████████████████████| 15000/15000 [00:14<00:00, 1006.46it/s]\n",
      "100%|██████████████████████████████████████████| 3000/3000 [00:02<00:00, 1205.24it/s]\n"
     ]
    }
   ],
   "source": [
    "num_events = 15000\n",
    "num_events_test = 3000\n",
    "\n",
    "events_arr, muon_list, max_n = ge.generate_noisy_evts(num_events, noise_frac=0.4, bkg_frac=0.5)\n",
    "events_arr_test, muon_list_test, max_n_test = ge.generate_noisy_evts(num_events_test, noise_frac=0.4, bkg_frac=0.5)"
   ]
  },
  {
   "cell_type": "code",
   "execution_count": 4,
   "metadata": {},
   "outputs": [],
   "source": [
    "# transform each event (muon_hits list) to np.array of fixed size\n",
    "def convert_to(muon_list, size, target_dtype=np.int16,\n",
    "               features=['layer', 'wire_num', 'bx', 't0']):\n",
    "    padded_array = np.zeros(shape=(len(muon_list), size, len(features)), dtype=target_dtype)\n",
    "    for i, muon_hits in enumerate(muon_list):\n",
    "        for j, hit in enumerate(muon_hits):\n",
    "            for k, f in enumerate(features):\n",
    "                padded_array[i,j,k] = hit[f]  # BEWARE: implicit type conversions going on here\n",
    "\n",
    "    return padded_array\n",
    "\n",
    "feature_list = ['layer', 'wire_num', 'bx', 't0', 'signal']\n",
    "muon_array = convert_to(muon_list, size=max_n, target_dtype=np.float32,\n",
    "                        features=feature_list)\n",
    "test_array = convert_to(muon_list_test, size=max_n_test, target_dtype=np.float32,\n",
    "                        features=feature_list)"
   ]
  },
  {
   "cell_type": "markdown",
   "metadata": {},
   "source": [
    "Generate target: NLAYERSxNWIRES (4x4 by defualt) matrices with 1 if a true hit from a muon has been registered in the time"
   ]
  },
  {
   "cell_type": "code",
   "execution_count": 5,
   "metadata": {},
   "outputs": [],
   "source": [
    "def gen_target(muon_list):\n",
    "    target = np.ones(shape=(len(muon_list), ps.NLAYERS, ps.NWIRES), dtype=np.int16)\n",
    "    for i, evt in tqdm.tqdm(enumerate(muon_list)):\n",
    "        for hit in evt:\n",
    "            layer, wire = hit['layer']-1, hit['wire_num']-1\n",
    "\n",
    "            if hit['signal'] == True:\n",
    "                target[i, layer, wire] = 0\n",
    "\n",
    "    return torch.tensor(target, dtype=torch.long)"
   ]
  },
  {
   "cell_type": "code",
   "execution_count": 6,
   "metadata": {},
   "outputs": [
    {
     "name": "stderr",
     "output_type": "stream",
     "text": [
      "15000it [00:00, 512262.63it/s]\n",
      "3000it [00:00, 577807.41it/s]\n"
     ]
    }
   ],
   "source": [
    "target = gen_target(muon_list)\n",
    "target_test = gen_target(muon_list_test)"
   ]
  },
  {
   "cell_type": "markdown",
   "metadata": {},
   "source": [
    "### Custom Dataset and Dataloader"
   ]
  },
  {
   "cell_type": "code",
   "execution_count": 7,
   "metadata": {},
   "outputs": [],
   "source": [
    "class CustomDataset(Dataset):\n",
    "    def __init__(self, input_data, target, transform=None):\n",
    "        self.data = list(zip(input_data, target))\n",
    "        self.transform = transform\n",
    "\n",
    "    def __len__(self):\n",
    "        return len(self.data)\n",
    "\n",
    "    def __getitem__(self, idx):\n",
    "        \n",
    "        sample = self.data[idx]\n",
    "        \n",
    "        if self.transform:\n",
    "            sample = self.transform(sample)\n",
    "            \n",
    "        return sample\n",
    "\n",
    "\n",
    "# Transformations\n",
    "\n",
    "# converts to Torch tensor of desired type\n",
    "def to_tensor_and_dtype(input_variable, target_dtype=torch.float32):\n",
    "    \n",
    "    # Convert to PyTorch tensor\n",
    "    tensor = torch.tensor(input_variable)\n",
    "    # Force the tensor to have the specified dtype\n",
    "    tensor = tensor.to(target_dtype)\n",
    "    \n",
    "    return tensor\n",
    "\n",
    "\n",
    "transform = transforms.Compose([\n",
    "    lambda x: (to_tensor_and_dtype(x[0], target_dtype=torch.float32), x[1])\n",
    "])"
   ]
  },
  {
   "cell_type": "code",
   "execution_count": 8,
   "metadata": {},
   "outputs": [],
   "source": [
    "train_dataset = CustomDataset(muon_array, target, transform=transform)\n",
    "test_dataset = CustomDataset(test_array, target_test, transform=transform)\n",
    "\n",
    "batch_size = 100\n",
    "nw=0\n",
    "\n",
    "train_loader = DataLoader(train_dataset, batch_size=batch_size, shuffle=True, num_workers=nw)"
   ]
  },
  {
   "cell_type": "markdown",
   "metadata": {},
   "source": [
    "### Create Spiketrain"
   ]
  },
  {
   "cell_type": "code",
   "execution_count": 9,
   "metadata": {},
   "outputs": [],
   "source": [
    "def custom_spikegen(data, num_step=40):\n",
    "    spike_data = torch.zeros(size=(num_step,batch_size,ps.NLAYERS,ps.NWIRES), dtype=data.dtype)\n",
    "    for n_batch, evt in enumerate(data):\n",
    "        for hit in evt:\n",
    "            layer = int(hit[0])\n",
    "            wire = int(hit[1])\n",
    "            bx = int(hit[2])\n",
    "            t0 = math.floor(hit[3])\n",
    "            if bx != 0:\n",
    "                spike_data[bx-t0+ps.bx_oot, n_batch, layer-1, wire-1] = 1\n",
    "            else:\n",
    "                break\n",
    "                \n",
    "    return spike_data    "
   ]
  },
  {
   "cell_type": "markdown",
   "metadata": {},
   "source": [
    "## Network Definition"
   ]
  },
  {
   "cell_type": "code",
   "execution_count": 10,
   "metadata": {},
   "outputs": [],
   "source": [
    "# Network Architecture\n",
    "num_inputs = ps.NLAYERS*ps.NWIRES\n",
    "num_hidden = 100\n",
    "num_outputs = 2*num_inputs\n",
    "\n",
    "# Temporal Dynamics\n",
    "num_steps = 40\n",
    "beta = 0.8"
   ]
  },
  {
   "cell_type": "code",
   "execution_count": 11,
   "metadata": {},
   "outputs": [],
   "source": [
    "class Net(nn.Module):\n",
    "    \"\"\"Simple spiking neural network in snntorch.\"\"\"\n",
    "\n",
    "    def __init__(self, input_feat, hidden,out_feat,timesteps):\n",
    "        super().__init__()\n",
    "        \n",
    "        self.input_feat = input_feat # number of input neurons \n",
    "        self.hidden = hidden # number of hidden neurons\n",
    "        self.out_feat = out_feat # number of output neurons\n",
    "        \n",
    "        self.timesteps = timesteps # number of time steps to simulate the network\n",
    "        spike_grad = surrogate.fast_sigmoid() # surrogate gradient function\n",
    "        \n",
    "        self.fc_in = nn.Linear(in_features=self.input_feat, out_features=self.hidden)\n",
    "        self.lif_in = snn.Leaky(beta=beta,spike_grad=spike_grad,threshold=0.9)\n",
    "        \n",
    "        self.fc_out = nn.Linear(in_features=self.hidden, out_features=self.out_feat)\n",
    "        self.lif_out = snn.Leaky(beta=beta,spike_grad=spike_grad,threshold=0.9)\n",
    "    \n",
    "    def forward(self, x):\n",
    "        \"\"\"Forward pass for several time steps.\"\"\"\n",
    "\n",
    "        # Initalize membrane potential\n",
    "        mem1 = self.lif_in.init_leaky()\n",
    "        mem2 = self.lif_out.init_leaky()\n",
    "\n",
    "        # Record the final layer\n",
    "        spk2_rec = []\n",
    "        mem2_rec = []\n",
    "\n",
    "        # Loop over \n",
    "        for step in range(self.timesteps):\n",
    "                \n",
    "            cur1 = self.fc_in(x[step])\n",
    "            spk1, mem1 = self.lif_in(cur1, mem1)\n",
    "            cur2 = self.fc_out(spk1)\n",
    "            spk2, mem2 = self.lif_out(cur2, mem2)\n",
    "            spk2_rec.append(spk2)\n",
    "            mem2_rec.append(mem2)\n",
    "\n",
    "        return torch.stack(spk2_rec, dim=0), torch.stack(mem2_rec, dim=0)\n",
    "    \n",
    "net = Net(num_inputs, num_hidden, num_outputs, num_steps).to(device)"
   ]
  },
  {
   "cell_type": "markdown",
   "metadata": {},
   "source": [
    "## Training"
   ]
  },
  {
   "cell_type": "markdown",
   "metadata": {},
   "source": [
    "### Custom Loss Function"
   ]
  },
  {
   "cell_type": "code",
   "execution_count": 12,
   "metadata": {},
   "outputs": [],
   "source": [
    "class Multi_loss(nn.Module):\n",
    "    def __init__(self, n_classes, loss_func):\n",
    "        super(Multi_loss, self).__init__()\n",
    "        self.n_classes = n_classes\n",
    "        self.loss = loss_func\n",
    "\n",
    "    def forward(self, inputs, targets):\n",
    "        loss = 0\n",
    "        for i in range(inputs.shape[-1]//self.n_classes):\n",
    "            loss += self.loss(inputs[:, :, i*self.n_classes:(i+1)*self.n_classes],\n",
    "                              targets[:, i])\n",
    "        return loss"
   ]
  },
  {
   "cell_type": "markdown",
   "metadata": {},
   "source": [
    "### Train Loop"
   ]
  },
  {
   "cell_type": "code",
   "execution_count": 13,
   "metadata": {},
   "outputs": [],
   "source": [
    "def print_batch_accuracy(net, data, targets, batch_size, train=False):\n",
    "    output, _ = net(data)\n",
    "    _, idx = output.sum(dim=0).max(1)\n",
    "    acc = np.mean((targets == idx).detach().cpu().numpy())\n",
    "    \n",
    "    if train:\n",
    "        print(f\"Train set accuracy for a single minibatch: {acc*100:.2f}%\")\n",
    "    else:\n",
    "        print(f\"Test set accuracy for a single minibatch: {acc*100:.2f}%\")\n",
    "\n",
    "def train_printer(net, data, targets, batch_size, epoch, counter, iter_counter,\n",
    "                  loss_hist, test_loss_hist, test_data, test_targets):\n",
    "    print(f\"Epoch {epoch}, Iteration {iter_counter}\")\n",
    "    print(f\"Train Set Loss: {loss_hist[counter]:.2f}\")\n",
    "    print(f\"Test Set Loss: {test_loss_hist[counter]:.2f}\")\n",
    "    print_batch_accuracy(net, data, targets, batch_size, train=True)\n",
    "    print_batch_accuracy(net, test_data, test_targets, batch_size, train=False)\n",
    "    print(\"\\n\")"
   ]
  },
  {
   "cell_type": "code",
   "execution_count": 14,
   "metadata": {},
   "outputs": [
    {
     "name": "stdout",
     "output_type": "stream",
     "text": [
      "Epoch: 0\n",
      "Batch: 0\n",
      "Iteration: 0\n",
      "Loss: 11.090357780456543 \n",
      "\n",
      "Epoch: 0\n",
      "Batch: 50\n",
      "Iteration: 50\n",
      "Loss: 10.08403205871582 \n",
      "\n",
      "Epoch: 0\n",
      "Batch: 100\n",
      "Iteration: 100\n",
      "Loss: 6.411796569824219 \n",
      "\n",
      "Epoch: 1\n",
      "Batch: 0\n",
      "Iteration: 150\n",
      "Loss: 5.4553542137146 \n",
      "\n",
      "Epoch: 1\n",
      "Batch: 50\n",
      "Iteration: 200\n",
      "Loss: 4.589517593383789 \n",
      "\n",
      "Epoch: 1\n",
      "Batch: 100\n",
      "Iteration: 250\n",
      "Loss: 4.191985607147217 \n",
      "\n",
      "Epoch: 2\n",
      "Batch: 0\n",
      "Iteration: 300\n",
      "Loss: 2.680229663848877 \n",
      "\n",
      "Epoch: 2\n",
      "Batch: 50\n",
      "Iteration: 350\n",
      "Loss: 2.6212406158447266 \n",
      "\n",
      "Epoch: 2\n",
      "Batch: 100\n",
      "Iteration: 400\n",
      "Loss: 2.586296796798706 \n",
      "\n"
     ]
    }
   ],
   "source": [
    "num_epochs = 3\n",
    "loss_hist = []\n",
    "iter_counter = 0\n",
    "\n",
    "#loss = nn.MSELoss()\n",
    "loss_fn = Multi_loss(2, SF.ce_count_loss())\n",
    "optimizer = torch.optim.Adam(net.parameters(), lr=5e-4, betas=(0.9, 0.999))\n",
    "\n",
    "\n",
    "# Outer training loop\n",
    "for epoch in range(num_epochs):\n",
    "    batch_counter = 0\n",
    "    # Minibatch training loop\n",
    "    for data_it, targets_it in train_loader:\n",
    "        data_it = data_it.to(device)\n",
    "        targets_it = targets_it.to(device)\n",
    "\n",
    "        # create spike train\n",
    "        spike_in = custom_spikegen(data_it, num_steps)\n",
    "        spike_in = spike_in.to(device)\n",
    "\n",
    "        # forward pass\n",
    "        net.train()\n",
    "        spk_rec, mem_rec = net(spike_in.view(num_steps, batch_size, -1))\n",
    "\n",
    "        # initialize the loss & sum over time\n",
    "        loss_val = loss_fn(spk_rec, targets_it.view(batch_size, -1))\n",
    "        \n",
    "        # Gradient calculation + weight update\n",
    "        optimizer.zero_grad()\n",
    "        loss_val.backward()\n",
    "        optimizer.step()\n",
    "\n",
    "        # Store loss history for future plotting\n",
    "        loss_hist.append(loss_val.item())\n",
    "        \n",
    "        if iter_counter % 50 == 0:\n",
    "            print(\"Epoch:\",epoch)\n",
    "            print(\"Batch:\",batch_counter)\n",
    "            print(\"Iteration:\",iter_counter)\n",
    "            print(\"Loss:\",loss_val.item(),\"\\n\")\n",
    "        \n",
    "        batch_counter += 1\n",
    "        iter_counter += 1"
   ]
  },
  {
   "cell_type": "code",
   "execution_count": 15,
   "metadata": {},
   "outputs": [
    {
     "data": {
      "image/png": "[encoded data removed]",
      "text/plain": [
       "<Figure size 2000x600 with 1 Axes>"
      ]
     },
     "metadata": {},
     "output_type": "display_data"
    }
   ],
   "source": [
    "# Plot Loss\n",
    "fig = plt.figure(facecolor=\"w\", figsize=(20, 6))\n",
    "plt.plot(loss_hist)\n",
    "plt.title(\"Train loss\")\n",
    "plt.xlabel(\"Iteration\")\n",
    "plt.ylabel(\"Loss\")\n",
    "#plt.yscale(\"log\")\n",
    "plt.show()"
   ]
  },
  {
   "cell_type": "code",
   "execution_count": 16,
   "metadata": {},
   "outputs": [
    {
     "name": "stdout",
     "output_type": "stream",
     "text": [
      "Total correctly classified test set images: 45753/48000\n",
      "Test Set Accuracy: 95.32%\n"
     ]
    }
   ],
   "source": [
    "total = 0\n",
    "correct = 0\n",
    "\n",
    "# drop_last switched to False to keep all samples\n",
    "test_loader = DataLoader(test_dataset, batch_size=batch_size, shuffle=False, drop_last=False)\n",
    "\n",
    "with torch.no_grad():\n",
    "    net.eval()\n",
    "    \n",
    "    for data, targets in test_loader:\n",
    "        data = data.to(device)\n",
    "        targets = targets.to(device)\n",
    "        #create spike train\n",
    "        spike_in = custom_spikegen(data, num_steps)\n",
    "        test_spike_in = spike_in.to(device)\n",
    "    \n",
    "        # forward pass\n",
    "        test_spk, _ = net(test_spike_in.view(num_steps, batch_size, -1))\n",
    "\n",
    "        # calculate total accuracy\n",
    "        _, predicted = test_spk.sum(dim=0).view(batch_size, ps.NLAYERS*ps.NWIRES, -1).max(2)\n",
    "        total += targets.numel()\n",
    "        correct += (predicted == targets.view(batch_size, -1)).sum().item()\n",
    "        \n",
    "print(f\"Total correctly classified test set images: {correct}/{total}\")\n",
    "print(f\"Test Set Accuracy: {100 * correct / total:.2f}%\")"
   ]
  },
  {
   "cell_type": "markdown",
   "metadata": {},
   "source": [
    "## Legacy Code"
   ]
  },
  {
   "cell_type": "code",
   "execution_count": null,
   "metadata": {},
   "outputs": [],
   "source": [
    "def gen_target_2(muon_list):\n",
    "    target = np.zeros(shape=(len(muon_list)), dtype=np.int16)\n",
    "    for i, evt in tqdm.tqdm(enumerate(muon_list)):\n",
    "        for hit in evt:\n",
    "            if hit['signal'] == True:\n",
    "                target[i] = 1\n",
    "                break\n",
    "\n",
    "    return torch.tensor(target, dtype=torch.long)"
   ]
  },
  {
   "cell_type": "code",
   "execution_count": null,
   "metadata": {},
   "outputs": [],
   "source": [
    "log_softmax_fn = nn.LogSoftmax(dim=-1)\n",
    "loss_fn = nn.NLLLoss()"
   ]
  },
  {
   "cell_type": "code",
   "execution_count": 17,
   "metadata": {},
   "outputs": [
    {
     "name": "stdout",
     "output_type": "stream",
     "text": [
      "data shape: torch.Size([100, 8, 5])\n",
      "data[2]: tensor([[  2.,   3., 509., 500.,   0.],\n",
      "        [  0.,   0.,   0.,   0.,   0.],\n",
      "        [  0.,   0.,   0.,   0.,   0.],\n",
      "        [  0.,   0.,   0.,   0.,   0.],\n",
      "        [  0.,   0.,   0.,   0.,   0.],\n",
      "        [  0.,   0.,   0.,   0.,   0.],\n",
      "        [  0.,   0.,   0.,   0.,   0.],\n",
      "        [  0.,   0.,   0.,   0.,   0.]])\n",
      "\n",
      "Target shape: torch.Size([100, 4, 4])\n",
      "Target[2]: tensor([[1, 1, 1, 1],\n",
      "        [1, 1, 1, 1],\n",
      "        [1, 1, 1, 1],\n",
      "        [1, 1, 1, 1]])\n",
      "\n",
      "spike_rec shape: torch.Size([40, 100, 32])\n",
      "\n",
      "spk_count shape: torch.Size([100, 32])\n",
      "spk_count[2]: tensor([ 5., 11.,  4.,  8.,  8., 11.,  2.,  7.,  3.,  9.,  4.,  9.,  8., 11.,\n",
      "         7., 12.,  8., 13.,  6., 10.,  8., 11.,  5., 11.,  4.,  9.,  4., 10.,\n",
      "         7.,  9.,  6., 11.], grad_fn=<SelectBackward0>)\n",
      "\n",
      "a shape: torch.Size([100, 16, 2])\n",
      "a[2]: tensor([[ 5., 11.],\n",
      "        [ 4.,  8.],\n",
      "        [ 8., 11.],\n",
      "        [ 2.,  7.],\n",
      "        [ 3.,  9.],\n",
      "        [ 4.,  9.],\n",
      "        [ 8., 11.],\n",
      "        [ 7., 12.],\n",
      "        [ 8., 13.],\n",
      "        [ 6., 10.],\n",
      "        [ 8., 11.],\n",
      "        [ 5., 11.],\n",
      "        [ 4.,  9.],\n",
      "        [ 4., 10.],\n",
      "        [ 7.,  9.],\n",
      "        [ 6., 11.]], grad_fn=<SelectBackward0>)\n",
      "\n",
      "b shape: torch.Size([100, 16])\n",
      "b[2]: tensor([1, 1, 1, 1, 1, 1, 1, 1, 1, 1, 1, 1, 1, 1, 1, 1])\n",
      "\n",
      "c shape: torch.Size([100, 4, 4])\n",
      "c[2]: tensor([[1, 1, 1, 1],\n",
      "        [1, 1, 1, 1],\n",
      "        [1, 1, 1, 1],\n",
      "        [1, 1, 1, 1]])\n",
      "\n",
      "linearised targets shape: torch.Size([100, 16])\n",
      "linearised targtes[2]: tensor([1, 1, 1, 1, 1, 1, 1, 1, 1, 1, 1, 1, 1, 1, 1, 1])\n",
      "\n"
     ]
    }
   ],
   "source": [
    "for data, targets in train_loader:\n",
    "\n",
    "    print(\"data shape:\", data.shape)\n",
    "    print(\"data[2]:\", data[2])\n",
    "\n",
    "    print(\"\\nTarget shape:\", targets.shape)\n",
    "    print(\"Target[2]:\", targets[2])\n",
    "\n",
    "    spike_in = custom_spikegen(data, num_steps)\n",
    "    spk_rec, mem_rec = net(spike_in.view(num_steps, batch_size, -1))\n",
    "\n",
    "    print(\"\\nspike_rec shape:\", spk_rec.shape)\n",
    "    \n",
    "    spk_count = spk_rec.sum(dim=0)\n",
    "    print(\"\\nspk_count shape:\", spk_count.shape)\n",
    "\n",
    "    print(\"spk_count[2]:\", spk_count[2])\n",
    "\n",
    "    a = spk_count.view(batch_size, ps.NLAYERS*ps.NWIRES, -1)\n",
    "    print(\"\\na shape:\", a.shape)\n",
    "    print(\"a[2]:\", a[2])\n",
    "\n",
    "    _, b = a.max(2)\n",
    "    print(\"\\nb shape:\", b.shape)\n",
    "    print(\"b[2]:\", b[2])\n",
    "    \n",
    "    c = b.view(batch_size, ps.NLAYERS, -1)\n",
    "    print(\"\\nc shape:\", c.shape)\n",
    "    print(\"c[2]:\", c[2])\n",
    "\n",
    "    new_target = targets.view(batch_size, -1)\n",
    "    print(\"\\nlinearised targets shape:\", new_target.shape)\n",
    "    print(\"linearised targtes[2]:\", new_target[2])\n",
    "    print(\"\")\n",
    "    \n",
    "    break"
   ]
  },
  {
   "cell_type": "code",
   "execution_count": null,
   "metadata": {},
   "outputs": [],
   "source": [
    "# Legacy transform: not needed\n",
    "\n",
    "def pad(muon_hits, max_n_hit):\n",
    "    padded_array = np.zeros(max_n_hit, dtype=ED.hit_dtype)\n",
    "    for i, hit in enumerate(muon_hits):\n",
    "        padded_array[i]['bx']     = hit['bx']\n",
    "        padded_array[i]['tdc']    = hit['tdc']\n",
    "        padded_array[i]['label']  = hit['label']\n",
    "        padded_array[i]['signal'] = hit['signal']\n",
    "\n",
    "    return padded_array"
   ]
  },
  {
   "cell_type": "code",
   "execution_count": null,
   "metadata": {},
   "outputs": [],
   "source": [
    "def event_to_matrix(event,rec=True):\n",
    "    tmp_matrix = event['tdc']*(25/30)+event['bx']*25\n",
    "    tmp_matrix[tmp_matrix <0] = 0\n",
    "    \n",
    "    min_value = np.min(tmp_matrix)\n",
    "    max_value = np.max(tmp_matrix)\n",
    "    \n",
    "    tmp_matrix = (tmp_matrix - min_value) / (max_value - min_value)\n",
    "    \n",
    "    if rec:\n",
    "        tmp_matrix[tmp_matrix > 0] = 1/tmp_matrix[tmp_matrix > 0]\n",
    "        \n",
    "        min_value = np.min(tmp_matrix)\n",
    "        max_value = np.max(tmp_matrix)\n",
    "\n",
    "        tmp_matrix = (tmp_matrix - min_value) / (max_value - min_value)\n",
    "        \n",
    "    return tmp_matrix"
   ]
  }
 ],
 "metadata": {
  "colab": {
   "include_colab_link": true,
   "provenance": []
  },
  "kernelspec": {
   "display_name": "Python 3 (ipykernel)",
   "language": "python",
   "name": "python3"
  },
  "language_info": {
   "codemirror_mode": {
    "name": "ipython",
    "version": 3
   },
   "file_extension": ".py",
   "mimetype": "text/x-python",
   "name": "python",
   "nbconvert_exporter": "python",
   "pygments_lexer": "ipython3",
   "version": "3.8.18"
  }
 },
 "nbformat": 4,
 "nbformat_minor": 1
}
