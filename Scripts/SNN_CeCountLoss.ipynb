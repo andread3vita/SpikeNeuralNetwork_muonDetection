{
 "cells": [
  {
   "cell_type": "markdown",
   "metadata": {
    "colab_type": "text",
    "id": "view-in-github"
   },
   "source": [
    "<a href=\"https://colab.research.google.com/github/enlupi/SNN-MUC/blob/main/Scripts/DTFastSim.ipynb\" target=\"_parent\"><img src=\"https://colab.research.google.com/assets/colab-badge.svg\" alt=\"Open In Colab\"/></a>"
   ]
  },
  {
   "cell_type": "markdown",
   "metadata": {
    "id": "Rcbi-PGdeIDh"
   },
   "source": [
    "# SNN Implementation\n"
   ]
  },
  {
   "cell_type": "code",
   "execution_count": 1,
   "metadata": {},
   "outputs": [],
   "source": [
    "import GenEvents as ge\n",
    "import PlotEvents as pe\n",
    "import EventData as ed\n",
    "import Params as ps"
   ]
  },
  {
   "cell_type": "code",
   "execution_count": 2,
   "metadata": {
    "id": "VLIjTLXxqimK"
   },
   "outputs": [],
   "source": [
    "import numpy as np\n",
    "import tqdm \n",
    "import math\n",
    "\n",
    "import snntorch as snn\n",
    "import torch\n",
    "import torch.nn as nn\n",
    "\n",
    "import snntorch.spikeplot as splt\n",
    "from torchvision import transforms\n",
    "from torch.utils.data import Dataset, DataLoader\n",
    "from snntorch import surrogate\n",
    "import snntorch.functional as SF\n",
    "\n",
    "from snntorch import spikegen\n",
    "\n",
    "import matplotlib.pyplot as plt\n",
    "import snntorch.spikeplot as splt\n",
    "\n",
    "device = torch.device(\"cuda\") if torch.cuda.is_available() else torch.device(\"cpu\")"
   ]
  },
  {
   "cell_type": "markdown",
   "metadata": {},
   "source": [
    "## Create Datasets"
   ]
  },
  {
   "cell_type": "code",
   "execution_count": 3,
   "metadata": {},
   "outputs": [
    {
     "name": "stderr",
     "output_type": "stream",
     "text": [
      "100%|██████████| 15000/15000 [00:22<00:00, 671.88it/s]\n",
      "100%|██████████| 3000/3000 [00:04<00:00, 732.54it/s]\n"
     ]
    }
   ],
   "source": [
    "num_events = 15000\n",
    "num_events_test = 3000\n",
    "\n",
    "events_arr, muon_list, max_n = ge.generate_noisy_evts(num_events, noise_frac=0.2, bkg_frac=0.5)\n",
    "events_arr_test, muon_list_test, max_n_test = ge.generate_noisy_evts(num_events_test, noise_frac=0.2, bkg_frac=0.5)"
   ]
  },
  {
   "cell_type": "markdown",
   "metadata": {},
   "source": [
    "Generate target: NLAYERSxNWIRES (4x4 by defualt) matrices with 1 if a true hit from a muon has been registered in the time"
   ]
  },
  {
   "cell_type": "code",
   "execution_count": null,
   "metadata": {},
   "outputs": [],
   "source": [
    "def gen_target(muon_list):\n",
    "    target = np.zeros(shape=(len(muon_list), ps.NLAYERS, ps.NWIRES), dtype=np.int16)\n",
    "    for i, evt in tqdm.tqdm(enumerate(muon_list)):\n",
    "        for hit in evt:\n",
    "            layer, wire = hit['layer']-1, hit['wire_num']-1\n",
    "\n",
    "            if hit['signal'] == True:\n",
    "                target[i, layer, wire] = 1\n",
    "\n",
    "    return torch.tensor(target, dtype=torch.float32)"
   ]
  },
  {
   "cell_type": "code",
   "execution_count": 4,
   "metadata": {},
   "outputs": [],
   "source": [
    "def gen_target_2(muon_list):\n",
    "    target = np.zeros(shape=(len(muon_list)), dtype=np.int16)\n",
    "    for i, evt in tqdm.tqdm(enumerate(muon_list)):\n",
    "        for hit in evt:\n",
    "            if hit['signal'] == True:\n",
    "                target[i] = 1\n",
    "                break\n",
    "\n",
    "    return torch.tensor(target, dtype=torch.long)"
   ]
  },
  {
   "cell_type": "code",
   "execution_count": 5,
   "metadata": {},
   "outputs": [
    {
     "name": "stderr",
     "output_type": "stream",
     "text": [
      "15000it [00:00, 375443.45it/s]\n",
      "3000it [00:00, 500453.88it/s]\n"
     ]
    }
   ],
   "source": [
    "target = gen_target_2(muon_list)\n",
    "target_test = gen_target_2(muon_list_test)"
   ]
  },
  {
   "cell_type": "markdown",
   "metadata": {},
   "source": [
    "### Custom Dataset and Dataloader"
   ]
  },
  {
   "cell_type": "code",
   "execution_count": 6,
   "metadata": {},
   "outputs": [],
   "source": [
    "class CustomDataset(Dataset):\n",
    "    def __init__(self, input_data, target, transform=None):\n",
    "        self.input_data = input_data\n",
    "        self.target = target\n",
    "        \n",
    "        self.transform = transform\n",
    "\n",
    "    def __len__(self):\n",
    "        return len(self.input_data)\n",
    "\n",
    "    def __getitem__(self, idx):\n",
    "        \n",
    "        input_sample = self.input_data[idx]\n",
    "        target_sample = self.target[idx]\n",
    "        \n",
    "        if self.transform:\n",
    "            input_sample = self.transform(input_sample)\n",
    "            \n",
    "        return input_sample, target_sample\n",
    "\n",
    "\n",
    "# Transformations\n",
    "\n",
    "# transform each event (muon_hits list) to np.array of fixed size\n",
    "def convert_to(muon_hits, size, target_dtype=np.int16,\n",
    "               features=['layer', 'wire_num', 'bx', 't0']):\n",
    "    padded_array = np.zeros(shape=(size, len(features)), dtype=target_dtype)\n",
    "    for i, hit in enumerate(muon_hits):\n",
    "        for j, f in enumerate(features):\n",
    "            padded_array[i,j] = hit[f]  # BEWARE: implicit type conversions going on here\n",
    "\n",
    "    return padded_array\n",
    "\n",
    "# converts to Torch tensor of desired type\n",
    "def to_tensor_and_dtype(input_variable, target_dtype=torch.float32):\n",
    "    \n",
    "    # Convert to PyTorch tensor\n",
    "    tensor = torch.tensor(input_variable)\n",
    "    # Force the tensor to have the specified dtype\n",
    "    tensor = tensor.to(target_dtype)\n",
    "    \n",
    "    return tensor\n",
    "\n",
    "feature_list = ['layer', 'wire_num', 'bx', 't0']\n",
    "transform = transforms.Compose([\n",
    "    lambda x: convert_to(x, size=max_n, target_dtype=np.float32,\n",
    "                         features=feature_list),\n",
    "    lambda x: to_tensor_and_dtype(x, target_dtype=torch.float32)\n",
    "])"
   ]
  },
  {
   "cell_type": "code",
   "execution_count": 31,
   "metadata": {},
   "outputs": [],
   "source": [
    "train_dataset = CustomDataset(muon_list, target, transform=transform)\n",
    "test_dataset = CustomDataset(muon_list_test, target_test, transform=transform)\n",
    "\n",
    "batch_size = 150\n",
    "nw=0\n",
    "\n",
    "train_loader = DataLoader(train_dataset, batch_size=batch_size, shuffle=False, num_workers=nw)\n",
    "test_loader  = DataLoader(test_dataset,  batch_size=batch_size, shuffle=False, num_workers=nw)"
   ]
  },
  {
   "cell_type": "markdown",
   "metadata": {},
   "source": [
    "### Create Spiketrain"
   ]
  },
  {
   "cell_type": "code",
   "execution_count": 8,
   "metadata": {},
   "outputs": [],
   "source": [
    "def custom_spikegen(data_it, num_step=40):\n",
    "    spike_data = torch.zeros(size=(num_step,batch_size,ps.NLAYERS,ps.NWIRES), dtype=data_it.dtype)\n",
    "    for n_batch, evt in enumerate(data_it):\n",
    "        for hit in evt:\n",
    "            layer = int(hit[0])\n",
    "            wire = int(hit[1])\n",
    "            bx = int(hit[2])\n",
    "            t0 = math.floor(hit[3])\n",
    "            if bx != 0:\n",
    "                spike_data[bx-t0+ps.bx_oot, n_batch, layer-1, wire-1] = 1\n",
    "            else:\n",
    "                break\n",
    "                \n",
    "    return spike_data    "
   ]
  },
  {
   "cell_type": "markdown",
   "metadata": {},
   "source": [
    "## Network Definition"
   ]
  },
  {
   "cell_type": "code",
   "execution_count": 22,
   "metadata": {},
   "outputs": [],
   "source": [
    "# Network Architecture\n",
    "num_inputs = ps.NLAYERS*ps.NWIRES\n",
    "num_hidden = 40\n",
    "num_outputs = 2#num_inputs\n",
    "\n",
    "# Temporal Dynamics\n",
    "num_steps = 40\n",
    "beta = 0.9"
   ]
  },
  {
   "cell_type": "code",
   "execution_count": 32,
   "metadata": {},
   "outputs": [],
   "source": [
    "class Net(nn.Module):\n",
    "    \"\"\"Simple spiking neural network in snntorch.\"\"\"\n",
    "\n",
    "    def __init__(self, input_feat, hidden,out_feat,timesteps):\n",
    "        super().__init__()\n",
    "        \n",
    "        self.input_feat = input_feat # number of input neurons \n",
    "        self.hidden = hidden # number of hidden neurons\n",
    "        self.out_feat = out_feat # number of output neurons\n",
    "        \n",
    "        self.timesteps = timesteps # number of time steps to simulate the network\n",
    "        spike_grad = surrogate.fast_sigmoid() # surrogate gradient function\n",
    "        \n",
    "        \n",
    "        self.fc_in = nn.Linear(in_features=self.input_feat, out_features=self.hidden)\n",
    "        self.lif_in = snn.Leaky(beta=beta,spike_grad=spike_grad,\n",
    "                                    threshold=1)\n",
    "        \n",
    "        self.fc_out = nn.Linear(in_features=self.hidden, out_features=self.out_feat)\n",
    "        self.lif_out = snn.Leaky(beta=beta,spike_grad=spike_grad,\n",
    "                                    threshold=1)\n",
    "        \n",
    "    def forward(self, x):\n",
    "        \"\"\"Forward pass for several time steps.\"\"\"\n",
    "\n",
    "        # Initalize membrane potential\n",
    "        mem1 = self.lif_in.init_leaky()\n",
    "        mem2 = self.lif_out.init_leaky()\n",
    "\n",
    "        # Record the final layer\n",
    "        spk2_rec = []\n",
    "        mem2_rec = []\n",
    "\n",
    "        # Loop over \n",
    "        for step in range(self.timesteps):\n",
    "                \n",
    "            cur1 = self.fc_in(x[step])\n",
    "            spk1, mem1 = self.lif_in(cur1, mem1)\n",
    "            cur2 = self.fc_out(spk1)\n",
    "            spk2, mem2 = self.lif_out(cur2, mem2)\n",
    "            spk2_rec.append(spk2)\n",
    "            mem2_rec.append(mem2)\n",
    "\n",
    "        return torch.stack(spk2_rec, dim=0), torch.stack(mem2_rec, dim=0)\n",
    "    \n",
    "net = Net(num_inputs, num_hidden, num_outputs, num_steps).to(device)"
   ]
  },
  {
   "cell_type": "code",
   "execution_count": null,
   "metadata": {},
   "outputs": [],
   "source": [
    "a = nn.Conv2d(1, 12, 3)\n",
    "a.shape"
   ]
  },
  {
   "cell_type": "code",
   "execution_count": null,
   "metadata": {},
   "outputs": [],
   "source": [
    "class ConvNet(nn.Module):\n",
    "    \"\"\"Simple spiking neural network in snntorch.\"\"\"\n",
    "\n",
    "    def __init__(self, input_feat, out_feat, timesteps):\n",
    "        super().__init__()\n",
    "        \n",
    "        self.input_feat = input_feat # number of input neurons \n",
    "        self.out_feat = out_feat # number of output neurons\n",
    "        \n",
    "        self.timesteps = timesteps # number of time steps to simulate the network\n",
    "        spike_grad = surrogate.fast_sigmoid() # surrogate gradient function\n",
    "        \n",
    "        \n",
    "        # Initialize layers\n",
    "        self.conv1 = nn.Conv2d(1, 12, 3)\n",
    "        self.lif1 = snn.Leaky(beta=beta, spike_grad=spike_grad)\n",
    "        self.fc1 = nn.Linear(in_features=12*2*2, out_features=self.out_feat)\n",
    "        self.lif2 = snn.Leaky(beta=beta,spike_grad=spike_grad)\n",
    "\n",
    "        \n",
    "    def forward(self, x):\n",
    "        \"\"\"Forward pass for several time steps.\"\"\"\n",
    "\n",
    "        # Initalize membrane potential\n",
    "        mem1 = self.lif1.init_leaky()\n",
    "        mem2 = self.lif2.init_leaky()\n",
    "\n",
    "        # Record the final layer\n",
    "        spk2_rec = []\n",
    "        mem2_rec = []\n",
    "\n",
    "        # Loop over \n",
    "        for step in range(self.timesteps):\n",
    "                \n",
    "            cur1 = self.conv1(x[step])\n",
    "            spk1, mem1 = self.lif_in(cur1, mem1)\n",
    "            cur2 = self.fc1(spk1.view(batch_size, -1))\n",
    "            spk2, mem2 = self.lif2(cur2, mem2)\n",
    "            spk2_rec.append(spk2)\n",
    "            mem2_rec.append(mem2)\n",
    "\n",
    "        return torch.stack(spk2_rec, dim=0), torch.stack(mem2_rec, dim=0)\n",
    "    \n",
    "net = ConvNet(num_inputs, num_outputs, num_steps).to(device)"
   ]
  },
  {
   "cell_type": "markdown",
   "metadata": {},
   "source": [
    "### SNN training"
   ]
  },
  {
   "cell_type": "code",
   "execution_count": 11,
   "metadata": {},
   "outputs": [],
   "source": [
    "def print_batch_accuracy(net, data, targets, batch_size, train=False):\n",
    "    output, _ = net(data)\n",
    "    _, idx = output.sum(dim=0).max(1)\n",
    "    acc = np.mean((targets == idx).detach().cpu().numpy())\n",
    "    #acc = np.mean((targets == output[-1]).detach().cpu().numpy())\n",
    "\n",
    "    if train:\n",
    "        print(f\"Train set accuracy for a single minibatch: {acc*100:.2f}%\")\n",
    "    else:\n",
    "        print(f\"Test set accuracy for a single minibatch: {acc*100:.2f}%\")\n",
    "\n",
    "def train_printer(net, data, targets, batch_size, epoch, counter, iter_counter,\n",
    "                  loss_hist, test_loss_hist, test_data, test_targets):\n",
    "    print(f\"Epoch {epoch}, Iteration {iter_counter}\")\n",
    "    print(f\"Train Set Loss: {loss_hist[counter]:.2f}\")\n",
    "    print(f\"Test Set Loss: {test_loss_hist[counter]:.2f}\")\n",
    "    print_batch_accuracy(net, data, targets, batch_size, train=True)\n",
    "    print_batch_accuracy(net, test_data, test_targets, batch_size, train=False)\n",
    "    print(\"\\n\")"
   ]
  },
  {
   "cell_type": "code",
   "execution_count": 45,
   "metadata": {},
   "outputs": [
    {
     "name": "stdout",
     "output_type": "stream",
     "text": [
      "Epoch 0, Iteration 0\n",
      "Train Set Loss: 0.29\n",
      "Test Set Loss: 0.28\n",
      "Train set accuracy for a single minibatch: 51.60%\n",
      "Test set accuracy for a single minibatch: 50.27%\n",
      "\n",
      "\n",
      "Epoch 0, Iteration 50\n",
      "Train Set Loss: 0.27\n",
      "Test Set Loss: 0.29\n",
      "Train set accuracy for a single minibatch: 50.05%\n",
      "Test set accuracy for a single minibatch: 50.16%\n",
      "\n",
      "\n",
      "Epoch 1, Iteration 0\n",
      "Train Set Loss: 0.26\n",
      "Test Set Loss: 0.28\n",
      "Train set accuracy for a single minibatch: 50.89%\n",
      "Test set accuracy for a single minibatch: 50.37%\n",
      "\n",
      "\n",
      "Epoch 1, Iteration 50\n",
      "Train Set Loss: 0.27\n",
      "Test Set Loss: 0.24\n",
      "Train set accuracy for a single minibatch: 50.05%\n",
      "Test set accuracy for a single minibatch: 50.27%\n",
      "\n",
      "\n",
      "Epoch 2, Iteration 0\n",
      "Train Set Loss: 0.27\n",
      "Test Set Loss: 0.22\n",
      "Train set accuracy for a single minibatch: 51.16%\n",
      "Test set accuracy for a single minibatch: 50.43%\n",
      "\n",
      "\n",
      "Epoch 2, Iteration 50\n",
      "Train Set Loss: 0.23\n",
      "Test Set Loss: 0.24\n",
      "Train set accuracy for a single minibatch: 50.07%\n",
      "Test set accuracy for a single minibatch: 50.27%\n",
      "\n",
      "\n",
      "Epoch 3, Iteration 0\n",
      "Train Set Loss: 0.26\n",
      "Test Set Loss: 0.23\n",
      "Train set accuracy for a single minibatch: 50.89%\n",
      "Test set accuracy for a single minibatch: 50.37%\n",
      "\n",
      "\n",
      "Epoch 3, Iteration 50\n",
      "Train Set Loss: 0.21\n",
      "Test Set Loss: 0.22\n",
      "Train set accuracy for a single minibatch: 50.07%\n",
      "Test set accuracy for a single minibatch: 50.32%\n",
      "\n",
      "\n",
      "Epoch 4, Iteration 0\n",
      "Train Set Loss: 0.21\n",
      "Test Set Loss: 0.24\n",
      "Train set accuracy for a single minibatch: 50.80%\n",
      "Test set accuracy for a single minibatch: 50.37%\n",
      "\n",
      "\n",
      "Epoch 4, Iteration 50\n",
      "Train Set Loss: 0.21\n",
      "Test Set Loss: 0.23\n",
      "Train set accuracy for a single minibatch: 50.04%\n",
      "Test set accuracy for a single minibatch: 50.48%\n",
      "\n",
      "\n"
     ]
    }
   ],
   "source": [
    "num_epochs = 5\n",
    "loss_hist = []\n",
    "test_loss_hist = []\n",
    "counter = 0\n",
    "\n",
    "#loss = nn.MSELoss()\n",
    "loss_fn = SF.ce_count_loss()\n",
    "optimizer = torch.optim.Adam(net.parameters(), lr=5e-4, betas=(0.9, 0.999))\n",
    "\n",
    "\n",
    "# Outer training loop\n",
    "for epoch in range(num_epochs):\n",
    "    iter_counter = 0\n",
    "    train_batch = iter(train_loader)\n",
    "\n",
    "    # Minibatch training loop\n",
    "    for data_it, targets_it in train_batch:\n",
    "        data_it = data_it.to(device)\n",
    "        targets_it = targets_it.to(device)\n",
    "\n",
    "        # create spike train\n",
    "        spike_in = custom_spikegen(data_it, num_steps)\n",
    "        spike_in = spike_in.to(device)\n",
    "\n",
    "        # forward pass\n",
    "        net.train()\n",
    "        spk_rec, mem_rec = net(spike_in.view(num_steps, batch_size, -1))\n",
    "\n",
    "        # initialize the loss & sum over time\n",
    "        loss_val = loss_fn(spk_rec, targets_it)\n",
    "        #loss_val += num_steps*loss(spk_rec[-1], targets_it.view(batch_size, -1))\n",
    "\n",
    "        # Gradient calculation + weight update\n",
    "        optimizer.zero_grad()\n",
    "        loss_val.backward()\n",
    "        optimizer.step()\n",
    "\n",
    "        # Store loss history for future plotting\n",
    "        loss_hist.append(loss_val.item())\n",
    "\n",
    "        # Test set\n",
    "        with torch.no_grad():\n",
    "            net.eval()\n",
    "            test_data, test_targets = next(iter(test_loader))\n",
    "            test_data = test_data.to(device)\n",
    "            test_targets = test_targets.to(device)\n",
    "\n",
    "            #create spike train\n",
    "            test_spike_in = custom_spikegen(test_data, num_steps)\n",
    "            test_spike_in = test_spike_in.to(device)\n",
    "\n",
    "            # Test set forward pass\n",
    "            test_spk, test_mem = net(test_spike_in.view(num_steps, batch_size, -1))\n",
    "\n",
    "            # Test set loss\n",
    "            test_loss = loss_fn(test_spk, test_targets)\n",
    "            #test_loss = torch.zeros((1), dtype=torch.float, device=device)\n",
    "            #test_loss += num_steps*loss(test_spk[-1], test_targets.view(batch_size, -1))\n",
    "            test_loss_hist.append(test_loss.item())\n",
    "\n",
    "            # Print train/test loss/accuracy\n",
    "            if counter % 50 == 0:\n",
    "                train_printer(\n",
    "                    net, spike_in.view(num_steps, batch_size, -1), targets_it.view(batch_size, -1),\n",
    "                    batch_size, epoch, counter, iter_counter, loss_hist, test_loss_hist,\n",
    "                    test_spike_in.view(num_steps, batch_size, -1), test_targets.view(batch_size, -1))\n",
    "            counter += 1\n",
    "            iter_counter +=1"
   ]
  },
  {
   "cell_type": "code",
   "execution_count": 46,
   "metadata": {},
   "outputs": [
    {
     "data": {
      "image/png": "[encoded data removed]",
      "text/plain": [
       "<Figure size 1000x500 with 1 Axes>"
      ]
     },
     "metadata": {},
     "output_type": "display_data"
    }
   ],
   "source": [
    "# Plot Loss\n",
    "fig = plt.figure(facecolor=\"w\", figsize=(10, 5))\n",
    "plt.plot(loss_hist)\n",
    "plt.plot(test_loss_hist)\n",
    "plt.title(\"Loss Curves\")\n",
    "plt.legend([\"Train Loss\", \"Test Loss\"])\n",
    "plt.xlabel(\"Iteration\")\n",
    "plt.ylabel(\"Loss\")\n",
    "plt.show()"
   ]
  },
  {
   "cell_type": "code",
   "execution_count": 49,
   "metadata": {},
   "outputs": [
    {
     "name": "stdout",
     "output_type": "stream",
     "text": [
      "0.5333333333333333\n",
      "0.47333333333333333\n",
      "0.4666666666666667\n",
      "0.48\n",
      "0.4666666666666667\n",
      "0.5333333333333333\n",
      "0.5133333333333333\n",
      "0.49333333333333335\n",
      "0.44\n",
      "0.4866666666666667\n",
      "0.5933333333333334\n",
      "0.4666666666666667\n",
      "0.4866666666666667\n",
      "0.5133333333333333\n",
      "0.4866666666666667\n",
      "0.49333333333333335\n",
      "0.5266666666666666\n",
      "0.4533333333333333\n",
      "0.5266666666666666\n",
      "0.5133333333333333\n",
      "Total correctly classified test set images: 1492/3000\n",
      "Test Set Accuracy: 49.73%\n"
     ]
    }
   ],
   "source": [
    "total = 0\n",
    "correct = 0\n",
    "\n",
    "# drop_last switched to False to keep all samples\n",
    "test_loader = DataLoader(test_dataset, batch_size=batch_size, shuffle=True, drop_last=False)\n",
    "\n",
    "with torch.no_grad():\n",
    "    net.eval()\n",
    "    \n",
    "    test_batch = iter(test_loader)\n",
    "    for data, targets in test_batch:\n",
    "        data = data.to(device)\n",
    "        targets = targets.to(device)\n",
    "        \n",
    "        #create spike train\n",
    "        spike_in = custom_spikegen(data, num_steps)\n",
    "        spike_in = spike_in.to(device)\n",
    "    \n",
    "        # forward pass\n",
    "        test_spk, _ = net(test_spike_in.view(num_steps, batch_size, -1))\n",
    "\n",
    "        #print(test_spk.shape)\n",
    "        #print(test_spk[-1].shape)\n",
    "        #print(targets.view(batch_size, -1).shape)\n",
    "\n",
    "        # calculate total accuracy\n",
    "        _, predicted = test_spk.sum(dim=0).max(1)\n",
    "        total += targets.size(0)\n",
    "        correct += (predicted == targets).sum().item()\n",
    "\n",
    "        print((predicted == targets).sum().item()/targets.size(0))\n",
    "        #total += targets.numel()\n",
    "        #correct += (test_spk[-1] == targets.view(batch_size, -1)).sum().item()\n",
    "\n",
    "print(f\"Total correctly classified test set images: {correct}/{total}\")\n",
    "print(f\"Test Set Accuracy: {100 * correct / total:.2f}%\")"
   ]
  },
  {
   "cell_type": "markdown",
   "metadata": {},
   "source": [
    "## Legacy Code"
   ]
  },
  {
   "cell_type": "code",
   "execution_count": 15,
   "metadata": {},
   "outputs": [],
   "source": [
    "log_softmax_fn = nn.LogSoftmax(dim=-1)\n",
    "loss_fn = nn.NLLLoss()"
   ]
  },
  {
   "cell_type": "code",
   "execution_count": 51,
   "metadata": {},
   "outputs": [
    {
     "name": "stdout",
     "output_type": "stream",
     "text": [
      "spike_count shape: torch.Size([150, 2])\n",
      "0.92\n",
      "spike_count shape: torch.Size([150, 2])\n",
      "0.8866666666666667\n",
      "spike_count shape: torch.Size([150, 2])\n",
      "0.9\n",
      "spike_count shape: torch.Size([150, 2])\n",
      "0.9266666666666666\n",
      "spike_count shape: torch.Size([150, 2])\n",
      "0.94\n",
      "spike_count shape: torch.Size([150, 2])\n",
      "0.8933333333333333\n",
      "spike_count shape: torch.Size([150, 2])\n",
      "0.8933333333333333\n",
      "spike_count shape: torch.Size([150, 2])\n",
      "0.9\n",
      "spike_count shape: torch.Size([150, 2])\n",
      "0.9533333333333334\n",
      "spike_count shape: torch.Size([150, 2])\n",
      "0.8733333333333333\n",
      "spike_count shape: torch.Size([150, 2])\n",
      "0.9133333333333333\n",
      "spike_count shape: torch.Size([150, 2])\n",
      "0.88\n",
      "spike_count shape: torch.Size([150, 2])\n",
      "0.92\n",
      "spike_count shape: torch.Size([150, 2])\n",
      "0.9666666666666667\n",
      "spike_count shape: torch.Size([150, 2])\n",
      "0.9133333333333333\n",
      "spike_count shape: torch.Size([150, 2])\n",
      "0.8866666666666667\n",
      "spike_count shape: torch.Size([150, 2])\n",
      "0.9133333333333333\n",
      "spike_count shape: torch.Size([150, 2])\n",
      "0.92\n",
      "spike_count shape: torch.Size([150, 2])\n",
      "0.9\n",
      "spike_count shape: torch.Size([150, 2])\n",
      "0.94\n"
     ]
    }
   ],
   "source": [
    "\n",
    "test_batch = iter(test_loader)\n",
    "\n",
    "for data_it, targets_it in test_batch:\n",
    "    #print(\"Data_it shape:\", data_it.shape)\n",
    "    #print(\"Target_it shape:\", targets_it.shape)\n",
    "\n",
    "    spike_in = custom_spikegen(data_it, num_steps)\n",
    "    #print(\"Spike train type:\", type(spike_in))\n",
    "    #print(\"Spike train shape:\", spike_in.shape)\n",
    "    \n",
    "    #a = data_it.view(batch_size, -1)\n",
    "    #print(\"Data_it view shape:\", a.shape)\n",
    "    #b = spike_in.view(num_steps, batch_size, -1)\n",
    "    #print(\"Data_it view shape:\", b.shape)\n",
    "    #print(b.dtype)\n",
    "    spk_rec, mem_rec = net(spike_in.view(num_steps, batch_size, -1))\n",
    "\n",
    "    #print(\"spike rec shape:\", spk_rec.shape)\n",
    "    #print(\"mem_rec shape:\", mem_rec.shape)\n",
    "\n",
    "    #print(spk_rec[-1, 0])\n",
    "    #print(targets_it.view(batch_size, -1)[0])\n",
    "\n",
    "    spike_count = torch.sum(spk_rec, 0)\n",
    "    #print(spike_count)\n",
    "    print(\"spike_count shape:\", spike_count.shape)\n",
    "\n",
    "    log_p_y = log_softmax_fn(spike_count)\n",
    "    #print(\"log_p_y shape:\", log_p_y.shape)\n",
    "\n",
    "    _, predicted = spk_rec.sum(dim=0).max(1)\n",
    "\n",
    "    l = len(predicted)\n",
    "    tot = (predicted == targets_it).sum().item()\n",
    "    print(tot/l)\n",
    "\n",
    "    \n",
    "    #loss_val = torch.zeros((1), device=device)\n",
    "    #for i in range(batch_size):\n",
    "    #    loss_val += loss_fn(log_p_y[i], targets_it[i])\n",
    "    \n",
    "    #loss_val = loss_fn(spk_rec, targets_it)\n",
    "\n",
    "    #break\n",
    "    "
   ]
  },
  {
   "cell_type": "code",
   "execution_count": null,
   "metadata": {},
   "outputs": [],
   "source": [
    "# Legacy transform: not needed\n",
    "\n",
    "def pad(muon_hits, max_n_hit):\n",
    "    padded_array = np.zeros(max_n_hit, dtype=ED.hit_dtype)\n",
    "    for i, hit in enumerate(muon_hits):\n",
    "        padded_array[i]['bx']     = hit['bx']\n",
    "        padded_array[i]['tdc']    = hit['tdc']\n",
    "        padded_array[i]['label']  = hit['label']\n",
    "        padded_array[i]['signal'] = hit['signal']\n",
    "\n",
    "    return padded_array"
   ]
  },
  {
   "cell_type": "code",
   "execution_count": null,
   "metadata": {},
   "outputs": [],
   "source": [
    "def event_to_matrix(event,rec=True):\n",
    "    tmp_matrix = event['tdc']*(25/30)+event['bx']*25\n",
    "    tmp_matrix[tmp_matrix <0] = 0\n",
    "    \n",
    "    min_value = np.min(tmp_matrix)\n",
    "    max_value = np.max(tmp_matrix)\n",
    "    \n",
    "    tmp_matrix = (tmp_matrix - min_value) / (max_value - min_value)\n",
    "    \n",
    "    if rec:\n",
    "        tmp_matrix[tmp_matrix > 0] = 1/tmp_matrix[tmp_matrix > 0]\n",
    "        \n",
    "        min_value = np.min(tmp_matrix)\n",
    "        max_value = np.max(tmp_matrix)\n",
    "\n",
    "        tmp_matrix = (tmp_matrix - min_value) / (max_value - min_value)\n",
    "        \n",
    "    return tmp_matrix"
   ]
  }
 ],
 "metadata": {
  "colab": {
   "include_colab_link": true,
   "provenance": []
  },
  "kernelspec": {
   "display_name": "Python 3 (ipykernel)",
   "language": "python",
   "name": "python3"
  },
  "language_info": {
   "codemirror_mode": {
    "name": "ipython",
    "version": 3
   },
   "file_extension": ".py",
   "mimetype": "text/x-python",
   "name": "python",
   "nbconvert_exporter": "python",
   "pygments_lexer": "ipython3",
   "version": "3.8.18"
  }
 },
 "nbformat": 4,
 "nbformat_minor": 1
}
