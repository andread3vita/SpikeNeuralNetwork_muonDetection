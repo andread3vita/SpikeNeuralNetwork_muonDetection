{
 "cells": [
  {
   "cell_type": "markdown",
   "metadata": {
    "colab_type": "text",
    "id": "view-in-github"
   },
   "source": [
    "<a href=\"https://colab.research.google.com/github/enlupi/SNN-MUC/blob/main/Scripts/DTFastSim.ipynb\" target=\"_parent\"><img src=\"https://colab.research.google.com/assets/colab-badge.svg\" alt=\"Open In Colab\"/></a>"
   ]
  },
  {
   "cell_type": "markdown",
   "metadata": {
    "id": "Rcbi-PGdeIDh"
   },
   "source": [
    "# SNN Implementation\n"
   ]
  },
  {
   "cell_type": "code",
   "execution_count": 1,
   "metadata": {},
   "outputs": [],
   "source": [
    "import GenEvents as ge\n",
    "import PlotEvents as pe\n",
    "import EventData as ed\n",
    "import Params as ps"
   ]
  },
  {
   "cell_type": "code",
   "execution_count": 2,
   "metadata": {
    "id": "VLIjTLXxqimK"
   },
   "outputs": [],
   "source": [
    "import numpy as np\n",
    "import tqdm \n",
    "import math\n",
    "\n",
    "import snntorch as snn\n",
    "import torch\n",
    "import torch.nn as nn\n",
    "\n",
    "import snntorch.spikeplot as splt\n",
    "from torchvision import transforms\n",
    "from torch.utils.data import Dataset, DataLoader\n",
    "from snntorch import surrogate\n",
    "import snntorch.functional as SF\n",
    "\n",
    "from snntorch import spikegen\n",
    "\n",
    "import matplotlib.pyplot as plt\n",
    "import snntorch.spikeplot as splt\n",
    "\n",
    "device = torch.device(\"cuda\") if torch.cuda.is_available() else torch.device(\"cpu\")"
   ]
  },
  {
   "cell_type": "markdown",
   "metadata": {},
   "source": [
    "## Create Datasets"
   ]
  },
  {
   "cell_type": "code",
   "execution_count": 3,
   "metadata": {},
   "outputs": [
    {
     "name": "stderr",
     "output_type": "stream",
     "text": [
<<<<<<< HEAD
      "100%|██████████| 15000/15000 [00:32<00:00, 457.46it/s]\n",
      "100%|██████████| 3000/3000 [00:06<00:00, 473.45it/s]\n"
=======
      "100%|███████████████████████████████████████████████████████████████████████████████████████████████████████████████████████████████| 100000/100000 [01:28<00:00, 1129.44it/s]\n",
      "100%|███████████████████████████████████████████████████████████████████████████████████████████████████████████████████████████████████| 6000/6000 [00:05<00:00, 1043.70it/s]\n"
>>>>>>> 1ceb92e6bb551a2813a8c84de11941bdf39f6586
     ]
    }
   ],
   "source": [
    "num_events = 15000\n",
    "num_events_test = 3000\n",
    "\n",
    "events_arr, muon_list, max_n = ge.generate_noisy_evts(num_events, noise_frac=0.4, bkg_frac=0.5)\n",
    "events_arr_test, muon_list_test, max_n_test = ge.generate_noisy_evts(num_events_test, noise_frac=0.4, bkg_frac=0.5)"
   ]
  },
  {
   "cell_type": "code",
   "execution_count": 5,
   "metadata": {},
   "outputs": [],
   "source": [
    "# transform each event (muon_hits list) to np.array of fixed size\n",
    "def convert_to(muon_list, size, target_dtype=np.int16,\n",
    "               features=['layer', 'wire_num', 'bx', 't0']):\n",
    "    padded_array = np.zeros(shape=(len(muon_list), size, len(features)), dtype=target_dtype)\n",
    "    for i, muon_hits in enumerate(muon_list):\n",
    "        for j, hit in enumerate(muon_hits):\n",
    "            for k, f in enumerate(features):\n",
    "                padded_array[i,j,k] = hit[f]  # BEWARE: implicit type conversions going on here\n",
    "\n",
    "    return padded_array\n",
    "\n",
    "feature_list = ['layer', 'wire_num', 'bx', 't0', 'signal']\n",
    "muon_array = convert_to(muon_list, size=max_n, target_dtype=np.float32,\n",
    "                        features=feature_list)\n",
    "test_array = convert_to(muon_list_test, size=max_n_test, target_dtype=np.float32,\n",
    "                        features=feature_list)"
   ]
  },
  {
   "cell_type": "markdown",
   "metadata": {},
   "source": [
    "Generate target: NLAYERSxNWIRES (4x4 by defualt) matrices with 1 if a true hit from a muon has been registered in the time"
   ]
  },
  {
   "cell_type": "code",
<<<<<<< HEAD
   "execution_count": 6,
=======
   "execution_count": 4,
>>>>>>> 1ceb92e6bb551a2813a8c84de11941bdf39f6586
   "metadata": {},
   "outputs": [],
   "source": [
    "def gen_target(muon_list):\n",
    "    target = np.ones(shape=(len(muon_list), ps.NLAYERS, ps.NWIRES), dtype=np.int16)\n",
    "    for i, evt in tqdm.tqdm(enumerate(muon_list)):\n",
    "        for hit in evt:\n",
    "            layer, wire = hit['layer']-1, hit['wire_num']-1\n",
    "\n",
    "            if hit['signal'] == True:\n",
<<<<<<< HEAD
    "                target[i, layer, wire] = 0\n",
=======
    "                target[i, layer, wire] = 1\n",
    "\n",
    "    return torch.tensor(target, dtype=torch.float32)"
   ]
  },
  {
   "cell_type": "code",
   "execution_count": 5,
   "metadata": {},
   "outputs": [],
   "source": [
    "def gen_target_2(muon_list):\n",
    "    target = np.zeros(shape=(len(muon_list)), dtype=np.int16)\n",
    "    for i, evt in tqdm.tqdm(enumerate(muon_list)):\n",
    "        for hit in evt:\n",
    "            if hit['signal'] == True:\n",
    "                target[i] = 1\n",
    "                break\n",
>>>>>>> 1ceb92e6bb551a2813a8c84de11941bdf39f6586
    "\n",
    "    return torch.tensor(target, dtype=torch.long)"
   ]
  },
  {
   "cell_type": "code",
<<<<<<< HEAD
   "execution_count": 7,
=======
   "execution_count": 6,
>>>>>>> 1ceb92e6bb551a2813a8c84de11941bdf39f6586
   "metadata": {},
   "outputs": [
    {
     "name": "stderr",
     "output_type": "stream",
     "text": [
<<<<<<< HEAD
      "15000it [00:00, 234133.79it/s]\n",
      "3000it [00:00, 230739.41it/s]\n"
=======
      "100000it [00:00, 970488.10it/s]\n",
      "6000it [00:00, 942646.14it/s]\n"
>>>>>>> 1ceb92e6bb551a2813a8c84de11941bdf39f6586
     ]
    }
   ],
   "source": [
    "target = gen_target(muon_list)\n",
    "target_test = gen_target(muon_list_test)"
   ]
  },
  {
   "cell_type": "markdown",
   "metadata": {},
   "source": [
    "### Custom Dataset and Dataloader"
   ]
  },
  {
   "cell_type": "code",
<<<<<<< HEAD
   "execution_count": 8,
=======
   "execution_count": 7,
>>>>>>> 1ceb92e6bb551a2813a8c84de11941bdf39f6586
   "metadata": {},
   "outputs": [],
   "source": [
    "class CustomDataset(Dataset):\n",
    "    def __init__(self, input_data, target, transform=None):\n",
    "        self.data = list(zip(input_data, target))\n",
    "        self.transform = transform\n",
    "\n",
    "    def __len__(self):\n",
    "        return len(self.data)\n",
    "\n",
    "    def __getitem__(self, idx):\n",
    "        \n",
    "        sample = self.data[idx]\n",
    "        \n",
    "        if self.transform:\n",
    "            sample = self.transform(sample)\n",
    "            \n",
    "        return sample\n",
    "\n",
    "\n",
    "# Transformations\n",
    "\n",
    "# converts to Torch tensor of desired type\n",
    "def to_tensor_and_dtype(input_variable, target_dtype=torch.float32):\n",
    "    \n",
    "    # Convert to PyTorch tensor\n",
    "    tensor = torch.tensor(input_variable)\n",
    "    # Force the tensor to have the specified dtype\n",
    "    tensor = tensor.to(target_dtype)\n",
    "    \n",
    "    return tensor\n",
    "\n",
    "\n",
    "transform = transforms.Compose([\n",
    "    lambda x: (to_tensor_and_dtype(x[0], target_dtype=torch.float32), x[1])\n",
    "])"
   ]
  },
  {
   "cell_type": "code",
   "execution_count": 9,
   "metadata": {},
   "outputs": [],
   "source": [
    "train_dataset = CustomDataset(muon_array, target, transform=transform)\n",
    "test_dataset = CustomDataset(test_array, target_test, transform=transform)\n",
    "\n",
    "batch_size = 100\n",
    "nw=0\n",
    "\n",
    "train_loader = DataLoader(train_dataset, batch_size=batch_size, shuffle=True, num_workers=nw)"
   ]
  },
  {
   "cell_type": "markdown",
   "metadata": {},
   "source": [
    "### Create Spiketrain"
   ]
  },
  {
   "cell_type": "code",
<<<<<<< HEAD
   "execution_count": 10,
=======
   "execution_count": 8,
>>>>>>> 1ceb92e6bb551a2813a8c84de11941bdf39f6586
   "metadata": {},
   "outputs": [],
   "source": [
    "def custom_spikegen(data, num_step=40):\n",
    "    spike_data = torch.zeros(size=(num_step,batch_size,ps.NLAYERS,ps.NWIRES), dtype=data.dtype)\n",
    "    for n_batch, evt in enumerate(data):\n",
    "        for hit in evt:\n",
    "            layer = int(hit[0])\n",
    "            wire = int(hit[1])\n",
    "            bx = int(hit[2])\n",
    "            t0 = math.floor(hit[3])\n",
    "            if bx != 0:\n",
    "                spike_data[bx-t0+ps.bx_oot, n_batch, layer-1, wire-1] = 1\n",
    "            else:\n",
    "                break\n",
    "                \n",
    "    return spike_data    "
   ]
  },
  {
   "cell_type": "markdown",
   "metadata": {},
   "source": [
    "## Network Definition"
   ]
  },
  {
   "cell_type": "code",
<<<<<<< HEAD
   "execution_count": 11,
=======
   "execution_count": 17,
>>>>>>> 1ceb92e6bb551a2813a8c84de11941bdf39f6586
   "metadata": {},
   "outputs": [],
   "source": [
    "# Network Architecture\n",
    "num_inputs = ps.NLAYERS*ps.NWIRES\n",
    "num_hidden = 100\n",
    "num_outputs = 2*num_inputs\n",
    "\n",
    "# Temporal Dynamics\n",
    "num_steps = 40\n",
    "alpha= 0.8\n",
    "beta = 0.8"
   ]
  },
  {
   "cell_type": "code",
<<<<<<< HEAD
   "execution_count": 12,
=======
   "execution_count": 18,
>>>>>>> 1ceb92e6bb551a2813a8c84de11941bdf39f6586
   "metadata": {},
   "outputs": [],
   "source": [
    "class Net(nn.Module):\n",
    "    \"\"\"Simple spiking neural network in snntorch.\"\"\"\n",
    "\n",
    "    def __init__(self, input_feat, hidden,out_feat,timesteps):\n",
    "        super().__init__()\n",
    "        \n",
    "        self.input_feat = input_feat # number of input neurons \n",
    "        self.hidden = hidden # number of hidden neurons\n",
    "        self.out_feat = out_feat # number of output neurons\n",
    "        \n",
    "        self.timesteps = timesteps # number of time steps to simulate the network\n",
    "        spike_grad = surrogate.fast_sigmoid() # surrogate gradient function\n",
    "        \n",
    "        self.fc_in = nn.Linear(in_features=self.input_feat, out_features=self.hidden)\n",
    "        self.lif_in = snn.Leaky(beta=beta,spike_grad=spike_grad,threshold=0.9)\n",
    "        \n",
    "        self.fc_out = nn.Linear(in_features=self.hidden, out_features=self.out_feat)\n",
    "        self.lif_out = snn.Leaky(beta=beta,spike_grad=spike_grad,threshold=0.9)\n",
    "    \n",
    "    def forward(self, x):\n",
    "        \"\"\"Forward pass for several time steps.\"\"\"\n",
    "\n",
    "        # Initalize membrane potential\n",
    "        mem1 = self.lif_in.init_leaky()\n",
    "        mem2 = self.lif_out.init_leaky()\n",
    "\n",
    "        # Record the final layer\n",
    "        spk2_rec = []\n",
    "        mem2_rec = []\n",
    "\n",
    "        # Loop over \n",
    "        for step in range(self.timesteps):\n",
    "                \n",
    "            cur1 = self.fc_in(x[step])\n",
    "            spk1, mem1 = self.lif_in(cur1, mem1)\n",
    "            cur2 = self.fc_out(spk1)\n",
    "            spk2, mem2 = self.lif_out(cur2, mem2)\n",
    "            spk2_rec.append(spk2)\n",
    "            mem2_rec.append(mem2)\n",
    "\n",
    "        return torch.stack(spk2_rec, dim=0), torch.stack(mem2_rec, dim=0)"
   ]
  },
  {
   "cell_type": "code",
   "execution_count": 19,
   "metadata": {},
   "outputs": [],
   "source": [
    "class Net2order(nn.Module):\n",
    "    \"\"\"Simple spiking neural network in snntorch.\"\"\"\n",
    "\n",
    "    def __init__(self, input_feat, hidden,out_feat,timesteps):\n",
    "        super().__init__()\n",
    "        \n",
    "        self.input_feat = input_feat # number of input neurons \n",
    "        self.hidden = hidden # number of hidden neurons\n",
    "        self.out_feat = out_feat # number of output neurons\n",
    "        \n",
    "        self.timesteps = timesteps # number of time steps to simulate the network\n",
    "        spike_grad = surrogate.fast_sigmoid() # surrogate gradient function\n",
    "        \n",
    "        self.fc_in = nn.Linear(in_features=self.input_feat, out_features=self.hidden)\n",
    "        self.lif_in = snn.Synaptic(beta=beta,alpha=alpha,\n",
    "                                   spike_grad=spike_grad,\n",
    "                                   threshold=0.9)\n",
    "        \n",
    "        self.fc_out = nn.Linear(in_features=self.hidden, out_features=self.out_feat)\n",
    "        self.lif_out = snn.Synaptic(beta=beta,alpha=alpha,\n",
    "                                    spike_grad=spike_grad,\n",
    "                                    threshold=0.9,reset_mechanism = 'zero')\n",
    "        \n",
    "    def forward(self, x):\n",
    "        \"\"\"Forward pass for several time steps.\"\"\"\n",
    "\n",
    "        # Initalize membrane potential\n",
    "        syn1, mem1 = self.lif_in.init_synaptic()\n",
    "        syn2, mem2 = self.lif_out.init_synaptic()\n",
    "        \n",
    "        # Record the final layer\n",
    "        spk2_rec = []\n",
    "        mem2_rec = []\n",
    "\n",
    "        # Loop over \n",
    "        for step in range(self.timesteps):\n",
    "            cur1 = self.fc_in(x[step])\n",
    "            spk1, syn1, mem1 = self.lif_in(cur1, syn1, mem1)\n",
    "            cur2 = self.fc_out(spk1)\n",
    "            spk2, syn2, mem2 = self.lif_out(cur2, syn2, mem2)\n",
    "            \n",
    "            spk2_rec.append(spk2)\n",
    "            mem2_rec.append(mem2)\n",
    "\n",
    "        return torch.stack(spk2_rec, dim=0), torch.stack(mem2_rec, dim=0)"
   ]
  },
  {
   "cell_type": "code",
   "execution_count": 20,
   "metadata": {},
   "outputs": [],
   "source": [
    "# Define Network\n",
    "class SLSTMnet(nn.Module):\n",
    "    def __init__(self, input_feat, hidden,out_feat,timesteps):\n",
    "        super().__init__()\n",
    "\n",
    "        \n",
    "        self.input_feat = input_feat # number of input neurons \n",
    "        self.hidden = hidden # number of hidden neurons\n",
    "        self.out_feat = out_feat # number of output neurons\n",
    "        \n",
    "        self.timesteps = timesteps # number of time steps to simulate the network\n",
    "        spike_grad_lstm = surrogate.straight_through_estimator()\n",
    "\n",
    "        # initialize layers\n",
    "        self.slstm1 = snn.SLSTM(self.input_feat, self.hidden,spike_grad=spike_grad_lstm)\n",
    "        \n",
    "        self.slstm2 = snn.SLSTM(self.hidden, self.out_feat,spike_grad=spike_grad_lstm)\n",
    "\n",
    "    def forward(self, x):\n",
    "        # Initialize hidden states and outputs at t=0\n",
    "        syn1, mem1 = self.slstm1.init_slstm()\n",
    "        syn2, mem2 = self.slstm2.init_slstm()\n",
    "\n",
    "        # Record the final layer\n",
    "        spk2_rec = []\n",
    "        mem2_rec = []\n",
    "\n",
    "        for step in range(self.timesteps):\n",
    "            spk1, syn1, mem1 = self.slstm1(x[step], syn1, mem1)\n",
    "            spk2, syn2, mem2 = self.slstm2(spk1, syn2, mem2)\n",
    "\n",
    "            spk2_rec.append(spk2)\n",
    "            mem2_rec.append(mem2)\n",
    "\n",
    "        return torch.stack(spk2_rec), torch.stack(mem2_rec)"
   ]
  },
  {
   "cell_type": "code",
   "execution_count": 21,
   "metadata": {},
   "outputs": [],
   "source": [
    "#net = Net(num_inputs, num_hidden, num_outputs, num_steps).to(device)\n",
    "net = Net2order(num_inputs, num_hidden, num_outputs, num_steps).to(device)\n",
    "#net = SLSTMnet(num_inputs, num_hidden, num_outputs, num_steps).to(device)"
   ]
  },
  {
   "cell_type": "markdown",
   "metadata": {},
   "source": [
    "## Training"
   ]
  },
  {
   "cell_type": "markdown",
   "metadata": {},
   "source": [
    "### Custom Loss Function"
   ]
  },
  {
   "cell_type": "code",
<<<<<<< HEAD
   "execution_count": 13,
   "metadata": {},
   "outputs": [],
   "source": [
    "class Multi_loss(nn.Module):\n",
    "    def __init__(self, n_classes, loss_func):\n",
    "        super(Multi_loss, self).__init__()\n",
    "        self.n_classes = n_classes\n",
    "        self.loss = loss_func\n",
    "\n",
    "    def forward(self, inputs, targets):\n",
    "        loss = 0\n",
    "        for i in range(inputs.shape[-1]//self.n_classes):\n",
    "            loss += self.loss(inputs[:, :, i*self.n_classes:(i+1)*self.n_classes],\n",
    "                              targets[:, i])\n",
    "        return loss"
   ]
  },
  {
   "cell_type": "markdown",
   "metadata": {},
   "source": [
    "### Train Loop"
   ]
  },
  {
   "cell_type": "code",
   "execution_count": null,
=======
   "execution_count": 22,
>>>>>>> 1ceb92e6bb551a2813a8c84de11941bdf39f6586
   "metadata": {},
   "outputs": [],
   "source": [
    "def print_batch_accuracy(net, data, targets, batch_size, train=False):\n",
    "    output, _ = net(data)\n",
    "    _, idx = output.sum(dim=0).max(1)\n",
    "    acc = np.mean((targets == idx).detach().cpu().numpy())\n",
    "    \n",
    "    if train:\n",
    "        print(f\"Train set accuracy for a single minibatch: {acc*100:.2f}%\")\n",
    "    else:\n",
    "        print(f\"Test set accuracy for a single minibatch: {acc*100:.2f}%\")\n",
    "\n",
    "def train_printer(net, data, targets, batch_size, epoch, counter, iter_counter,\n",
    "                  loss_hist, test_loss_hist, test_data, test_targets):\n",
    "    print(f\"Epoch {epoch}, Iteration {iter_counter}\")\n",
    "    print(f\"Train Set Loss: {loss_hist[counter]:.2f}\")\n",
    "    print(f\"Test Set Loss: {test_loss_hist[counter]:.2f}\")\n",
    "    print_batch_accuracy(net, data, targets, batch_size, train=True)\n",
    "    print_batch_accuracy(net, test_data, test_targets, batch_size, train=False)\n",
    "    print(\"\\n\")"
   ]
  },
  {
   "cell_type": "code",
<<<<<<< HEAD
   "execution_count": 14,
=======
   "execution_count": 23,
   "metadata": {},
   "outputs": [],
   "source": [
    "batch_size = 200\n",
    "nw=0\n",
    "\n",
    "train_loader = DataLoader(train_dataset, batch_size=batch_size, shuffle=True, num_workers=nw)"
   ]
  },
  {
   "cell_type": "code",
   "execution_count": 24,
>>>>>>> 1ceb92e6bb551a2813a8c84de11941bdf39f6586
   "metadata": {},
   "outputs": [
    {
     "name": "stdout",
     "output_type": "stream",
     "text": [
      "Epoch: 0\n",
      "Batch: 0\n",
      "Iteration: 0\n",
<<<<<<< HEAD
      "Loss: 11.096558570861816 \n",
=======
      "Loss: 4.915 \n",
>>>>>>> 1ceb92e6bb551a2813a8c84de11941bdf39f6586
      "\n",
      "Epoch: 0\n",
      "Batch: 50\n",
      "Iteration: 50\n",
<<<<<<< HEAD
      "Loss: 8.813745498657227 \n",
=======
      "Loss: 0.693 \n",
>>>>>>> 1ceb92e6bb551a2813a8c84de11941bdf39f6586
      "\n",
      "Epoch: 0\n",
      "Batch: 100\n",
      "Iteration: 100\n",
<<<<<<< HEAD
      "Loss: 6.270558834075928 \n",
=======
      "Loss: 0.693 \n",
>>>>>>> 1ceb92e6bb551a2813a8c84de11941bdf39f6586
      "\n",
      "Epoch: 1\n",
      "Batch: 0\n",
      "Iteration: 150\n",
<<<<<<< HEAD
      "Loss: 4.372382164001465 \n",
=======
      "Loss: 0.693 \n",
>>>>>>> 1ceb92e6bb551a2813a8c84de11941bdf39f6586
      "\n",
      "Epoch: 1\n",
      "Batch: 50\n",
      "Iteration: 200\n",
<<<<<<< HEAD
      "Loss: 4.812025547027588 \n",
=======
      "Loss: 0.693 \n",
>>>>>>> 1ceb92e6bb551a2813a8c84de11941bdf39f6586
      "\n",
      "Epoch: 1\n",
      "Batch: 100\n",
      "Iteration: 250\n",
<<<<<<< HEAD
      "Loss: 3.6493403911590576 \n",
=======
      "Loss: 0.693 \n",
>>>>>>> 1ceb92e6bb551a2813a8c84de11941bdf39f6586
      "\n",
      "Epoch: 2\n",
      "Batch: 0\n",
      "Iteration: 300\n",
<<<<<<< HEAD
      "Loss: 3.3278021812438965 \n",
=======
      "Loss: 0.687 \n",
>>>>>>> 1ceb92e6bb551a2813a8c84de11941bdf39f6586
      "\n",
      "Epoch: 2\n",
      "Batch: 50\n",
      "Iteration: 350\n",
<<<<<<< HEAD
      "Loss: 2.570244312286377 \n",
=======
      "Loss: 0.513 \n",
>>>>>>> 1ceb92e6bb551a2813a8c84de11941bdf39f6586
      "\n",
      "Epoch: 2\n",
      "Batch: 100\n",
      "Iteration: 400\n",
<<<<<<< HEAD
      "Loss: 2.4847631454467773 \n",
=======
      "Loss: 0.525 \n",
      "\n",
      "Epoch: 0\n",
      "Batch: 450\n",
      "Iteration: 450\n",
      "Loss: 0.499 \n",
      "\n",
      "Epoch: 1\n",
      "Batch: 0\n",
      "Iteration: 500\n",
      "Loss: 0.477 \n",
      "\n",
      "Epoch: 1\n",
      "Batch: 50\n",
      "Iteration: 550\n",
      "Loss: 0.431 \n",
      "\n",
      "Epoch: 1\n",
      "Batch: 100\n",
      "Iteration: 600\n",
      "Loss: 0.408 \n",
      "\n",
      "Epoch: 1\n",
      "Batch: 150\n",
      "Iteration: 650\n",
      "Loss: 0.289 \n",
      "\n",
      "Epoch: 1\n",
      "Batch: 200\n",
      "Iteration: 700\n",
      "Loss: 0.192 \n",
      "\n",
      "Epoch: 1\n",
      "Batch: 250\n",
      "Iteration: 750\n",
      "Loss: 0.160 \n",
      "\n",
      "Epoch: 1\n",
      "Batch: 300\n",
      "Iteration: 800\n",
      "Loss: 0.201 \n",
      "\n",
      "Epoch: 1\n",
      "Batch: 350\n",
      "Iteration: 850\n",
      "Loss: 0.172 \n",
      "\n",
      "Epoch: 1\n",
      "Batch: 400\n",
      "Iteration: 900\n",
      "Loss: 0.133 \n",
      "\n",
      "Epoch: 1\n",
      "Batch: 450\n",
      "Iteration: 950\n",
      "Loss: 0.156 \n",
      "\n",
      "Epoch: 2\n",
      "Batch: 0\n",
      "Iteration: 1000\n",
      "Loss: 0.164 \n",
      "\n",
      "Epoch: 2\n",
      "Batch: 50\n",
      "Iteration: 1050\n",
      "Loss: 0.120 \n",
      "\n",
      "Epoch: 2\n",
      "Batch: 100\n",
      "Iteration: 1100\n",
      "Loss: 0.135 \n",
      "\n",
      "Epoch: 2\n",
      "Batch: 150\n",
      "Iteration: 1150\n",
      "Loss: 0.115 \n",
      "\n",
      "Epoch: 2\n",
      "Batch: 200\n",
      "Iteration: 1200\n",
      "Loss: 0.096 \n",
      "\n",
      "Epoch: 2\n",
      "Batch: 250\n",
      "Iteration: 1250\n",
      "Loss: 0.078 \n",
      "\n",
      "Epoch: 2\n",
      "Batch: 300\n",
      "Iteration: 1300\n",
      "Loss: 0.104 \n",
      "\n",
      "Epoch: 2\n",
      "Batch: 350\n",
      "Iteration: 1350\n",
      "Loss: 0.129 \n",
      "\n",
      "Epoch: 2\n",
      "Batch: 400\n",
      "Iteration: 1400\n",
      "Loss: 0.092 \n",
      "\n",
      "Epoch: 2\n",
      "Batch: 450\n",
      "Iteration: 1450\n",
      "Loss: 0.064 \n",
      "\n",
      "Epoch: 3\n",
      "Batch: 0\n",
      "Iteration: 1500\n",
      "Loss: 0.122 \n",
      "\n",
      "Epoch: 3\n",
      "Batch: 50\n",
      "Iteration: 1550\n",
      "Loss: 0.098 \n",
      "\n",
      "Epoch: 3\n",
      "Batch: 100\n",
      "Iteration: 1600\n",
      "Loss: 0.073 \n",
      "\n",
      "Epoch: 3\n",
      "Batch: 150\n",
      "Iteration: 1650\n",
      "Loss: 0.090 \n",
      "\n",
      "Epoch: 3\n",
      "Batch: 200\n",
      "Iteration: 1700\n",
      "Loss: 0.113 \n",
      "\n",
      "Epoch: 3\n",
      "Batch: 250\n",
      "Iteration: 1750\n",
      "Loss: 0.095 \n",
      "\n",
      "Epoch: 3\n",
      "Batch: 300\n",
      "Iteration: 1800\n",
      "Loss: 0.090 \n",
      "\n",
      "Epoch: 3\n",
      "Batch: 350\n",
      "Iteration: 1850\n",
      "Loss: 0.072 \n",
      "\n",
      "Epoch: 3\n",
      "Batch: 400\n",
      "Iteration: 1900\n",
      "Loss: 0.058 \n",
      "\n",
      "Epoch: 3\n",
      "Batch: 450\n",
      "Iteration: 1950\n",
      "Loss: 0.101 \n",
      "\n",
      "Epoch: 4\n",
      "Batch: 0\n",
      "Iteration: 2000\n",
      "Loss: 0.178 \n",
      "\n",
      "Epoch: 4\n",
      "Batch: 50\n",
      "Iteration: 2050\n",
      "Loss: 0.139 \n",
      "\n",
      "Epoch: 4\n",
      "Batch: 100\n",
      "Iteration: 2100\n",
      "Loss: 0.096 \n",
      "\n",
      "Epoch: 4\n",
      "Batch: 150\n",
      "Iteration: 2150\n",
      "Loss: 0.066 \n",
      "\n",
      "Epoch: 4\n",
      "Batch: 200\n",
      "Iteration: 2200\n",
      "Loss: 0.148 \n",
      "\n",
      "Epoch: 4\n",
      "Batch: 250\n",
      "Iteration: 2250\n",
      "Loss: 0.038 \n",
      "\n",
      "Epoch: 4\n",
      "Batch: 300\n",
      "Iteration: 2300\n",
      "Loss: 0.062 \n",
      "\n",
      "Epoch: 4\n",
      "Batch: 350\n",
      "Iteration: 2350\n",
      "Loss: 0.090 \n",
      "\n",
      "Epoch: 4\n",
      "Batch: 400\n",
      "Iteration: 2400\n",
      "Loss: 0.074 \n",
      "\n",
      "Epoch: 4\n",
      "Batch: 450\n",
      "Iteration: 2450\n",
      "Loss: 0.092 \n",
>>>>>>> 1ceb92e6bb551a2813a8c84de11941bdf39f6586
      "\n"
     ]
    }
   ],
   "source": [
    "num_epochs = 3\n",
    "loss_hist = []\n",
    "iter_counter = 0\n",
    "\n",
    "#loss = nn.MSELoss()\n",
    "loss_fn = Multi_loss(2, SF.ce_count_loss())\n",
    "optimizer = torch.optim.Adam(net.parameters(), lr=5e-4, betas=(0.9, 0.999))\n",
    "\n",
    "\n",
    "# Outer training loop\n",
    "for epoch in range(num_epochs):\n",
    "    batch_counter = 0\n",
    "    # Minibatch training loop\n",
    "    for data_it, targets_it in train_loader:\n",
    "        data_it = data_it.to(device)\n",
    "        targets_it = targets_it.to(device)\n",
    "\n",
    "        # create spike train\n",
    "        spike_in = custom_spikegen(data_it, num_steps)\n",
    "        spike_in = spike_in.to(device)\n",
    "\n",
    "        # forward pass\n",
    "        net.train()\n",
    "        spk_rec, mem_rec = net(spike_in.view(num_steps, batch_size, -1))\n",
    "        \n",
    "        \n",
    "        # initialize the loss & sum over time\n",
    "        loss_val = loss_fn(spk_rec, targets_it.view(batch_size, -1))\n",
    "        \n",
    "        # Gradient calculation + weight update\n",
    "        optimizer.zero_grad()\n",
    "        loss_val.backward()\n",
    "        optimizer.step()\n",
    "\n",
    "        # Store loss history for future plotting\n",
    "        loss_hist.append(loss_val.item())\n",
    "        \n",
    "        if iter_counter % 50 == 0:\n",
    "            print(\"Epoch:\",epoch)\n",
    "            print(\"Batch:\",batch_counter)\n",
    "            print(\"Iteration:\",iter_counter)\n",
    "            print(\"Loss: {:.3f}\".format(loss_val.item()),\"\\n\")\n",
    "        \n",
    "        batch_counter += 1\n",
    "        iter_counter += 1"
   ]
  },
  {
   "cell_type": "code",
<<<<<<< HEAD
   "execution_count": 15,
=======
   "execution_count": 29,
>>>>>>> 1ceb92e6bb551a2813a8c84de11941bdf39f6586
   "metadata": {},
   "outputs": [
    {
     "data": {
<<<<<<< HEAD
      "image/png": "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",
=======
      "image/png": "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",
>>>>>>> 1ceb92e6bb551a2813a8c84de11941bdf39f6586
      "text/plain": [
       "<Figure size 1600x700 with 1 Axes>"
      ]
     },
     "metadata": {},
     "output_type": "display_data"
    }
   ],
   "source": [
    "# Plot Loss\n",
    "fig = plt.figure(facecolor=\"w\", figsize=(16, 7))\n",
    "plt.plot(loss_hist)\n",
    "plt.title(\"Train loss\")\n",
    "plt.xlabel(\"Iteration\")\n",
    "plt.ylabel(\"Loss\")\n",
    "#plt.yscale(\"log\")\n",
    "plt.show()"
   ]
  },
  {
   "cell_type": "code",
<<<<<<< HEAD
   "execution_count": 16,
=======
   "execution_count": 26,
>>>>>>> 1ceb92e6bb551a2813a8c84de11941bdf39f6586
   "metadata": {},
   "outputs": [
    {
     "name": "stdout",
     "output_type": "stream",
     "text": [
<<<<<<< HEAD
      "Total correctly classified test set images: 45518/48000\n",
      "Test Set Accuracy: 94.83%\n"
=======
      "Total correctly classified test set images: 5837/6000\n",
      "Test Set Accuracy: 97.28%\n"
>>>>>>> 1ceb92e6bb551a2813a8c84de11941bdf39f6586
     ]
    }
   ],
   "source": [
    "total = 0\n",
    "correct = 0\n",
    "\n",
    "# drop_last switched to False to keep all samples\n",
    "test_loader = DataLoader(test_dataset, batch_size=batch_size, shuffle=False, drop_last=False)\n",
    "\n",
    "with torch.no_grad():\n",
    "    net.eval()\n",
    "    \n",
    "    for data, targets in test_loader:\n",
    "        data = data.to(device)\n",
    "        targets = targets.to(device)\n",
    "        #create spike train\n",
    "        spike_in = custom_spikegen(data, num_steps)\n",
    "        test_spike_in = spike_in.to(device)\n",
    "    \n",
    "        # forward pass\n",
    "        test_spk, _ = net(test_spike_in.view(num_steps, batch_size, -1))\n",
    "\n",
    "        # calculate total accuracy\n",
    "        _, predicted = test_spk.sum(dim=0).view(batch_size, ps.NLAYERS*ps.NWIRES, -1).max(2)\n",
    "        total += targets.numel()\n",
    "        correct += (predicted == targets.view(batch_size, -1)).sum().item()\n",
    "        \n",
    "print(f\"Total correctly classified test set images: {correct}/{total}\")\n",
    "print(f\"Test Set Accuracy: {100 * correct / total:.2f}%\")"
   ]
  },
  {
   "cell_type": "markdown",
   "metadata": {},
   "source": [
    "## Legacy Code"
   ]
  },
  {
   "cell_type": "code",
   "execution_count": null,
   "metadata": {},
   "outputs": [],
   "source": [
    "def gen_target_2(muon_list):\n",
    "    target = np.zeros(shape=(len(muon_list)), dtype=np.int16)\n",
    "    for i, evt in tqdm.tqdm(enumerate(muon_list)):\n",
    "        for hit in evt:\n",
    "            if hit['signal'] == True:\n",
    "                target[i] = 1\n",
    "                break\n",
    "\n",
    "    return torch.tensor(target, dtype=torch.long)"
   ]
  },
  {
   "cell_type": "code",
   "execution_count": null,
   "metadata": {},
   "outputs": [],
   "source": [
    "log_softmax_fn = nn.LogSoftmax(dim=-1)\n",
    "loss_fn = nn.NLLLoss()"
   ]
  },
  {
   "cell_type": "code",
   "execution_count": 22,
   "metadata": {},
   "outputs": [
    {
     "name": "stdout",
     "output_type": "stream",
     "text": [
      "data shape: torch.Size([100, 8, 5])\n",
      "data[2]: tensor([[  4.0000,   3.0000, 507.0000, 500.0667,   1.0000],\n",
      "        [  1.0000,   2.0000, 501.0000, 500.0667,   1.0000],\n",
      "        [  2.0000,   3.0000, 506.0000, 500.0667,   1.0000],\n",
      "        [  0.0000,   0.0000,   0.0000,   0.0000,   0.0000],\n",
      "        [  0.0000,   0.0000,   0.0000,   0.0000,   0.0000],\n",
      "        [  0.0000,   0.0000,   0.0000,   0.0000,   0.0000],\n",
      "        [  0.0000,   0.0000,   0.0000,   0.0000,   0.0000],\n",
      "        [  0.0000,   0.0000,   0.0000,   0.0000,   0.0000]])\n",
      "\n",
      "Target shape: torch.Size([100, 4, 4])\n",
      "Target[2]: tensor([[1, 0, 1, 1],\n",
      "        [1, 1, 0, 1],\n",
      "        [1, 1, 1, 1],\n",
      "        [1, 1, 0, 1]])\n",
      "\n",
      "spike_rec shape: torch.Size([40, 100, 32])\n",
      "\n",
      "spk_count shape: torch.Size([100, 32])\n",
      "spk_count[2]: tensor([ 4., 10.,  4.,  5.,  6.,  9.,  3.,  8.,  1.,  9.,  5.,  9.,  6.,  7.,\n",
      "         5., 11.,  3., 10.,  8.,  7.,  4.,  7.,  2.,  8.,  3.,  9.,  6.,  9.,\n",
      "         7.,  7.,  5., 10.], grad_fn=<SelectBackward0>)\n",
      "\n",
      "a shape: torch.Size([100, 16, 2])\n",
      "a[2]: tensor([[ 4., 10.],\n",
      "        [ 4.,  5.],\n",
      "        [ 6.,  9.],\n",
      "        [ 3.,  8.],\n",
      "        [ 1.,  9.],\n",
      "        [ 5.,  9.],\n",
      "        [ 6.,  7.],\n",
      "        [ 5., 11.],\n",
      "        [ 3., 10.],\n",
      "        [ 8.,  7.],\n",
      "        [ 4.,  7.],\n",
      "        [ 2.,  8.],\n",
      "        [ 3.,  9.],\n",
      "        [ 6.,  9.],\n",
      "        [ 7.,  7.],\n",
      "        [ 5., 10.]], grad_fn=<SelectBackward0>)\n",
      "\n",
      "b shape: torch.Size([100, 16])\n",
      "b[2]: tensor([1, 1, 1, 1, 1, 1, 1, 1, 1, 0, 1, 1, 1, 1, 0, 1])\n",
      "\n",
      "c shape: torch.Size([100, 4, 4])\n",
      "c[2]: tensor([[1, 1, 1, 1],\n",
      "        [1, 1, 1, 1],\n",
      "        [1, 0, 1, 1],\n",
      "        [1, 1, 0, 1]])\n",
      "\n",
      "linearised targets shape: torch.Size([100, 16])\n",
      "linearised targtes[2]: tensor([1, 0, 1, 1, 1, 1, 0, 1, 1, 1, 1, 1, 1, 1, 0, 1])\n",
      "\n"
     ]
    }
   ],
   "source": [
    "for data, targets in train_loader:\n",
    "\n",
    "    print(\"data shape:\", data.shape)\n",
    "    print(\"data[2]:\", data[2])\n",
    "\n",
    "    print(\"\\nTarget shape:\", targets.shape)\n",
    "    print(\"Target[2]:\", targets[2])\n",
    "\n",
    "    spike_in = custom_spikegen(data, num_steps)\n",
    "    spk_rec, mem_rec = net(spike_in.view(num_steps, batch_size, -1))\n",
    "\n",
    "    print(\"\\nspike_rec shape:\", spk_rec.shape)\n",
    "    \n",
    "    spk_count = spk_rec.sum(dim=0)\n",
    "    print(\"\\nspk_count shape:\", spk_count.shape)\n",
    "\n",
    "    print(\"spk_count[2]:\", spk_count[2])\n",
    "\n",
    "    a = spk_count.view(batch_size, ps.NLAYERS*ps.NWIRES, -1)\n",
    "    print(\"\\na shape:\", a.shape)\n",
    "    print(\"a[2]:\", a[2])\n",
    "\n",
    "    _, b = a.max(2)\n",
    "    print(\"\\nb shape:\", b.shape)\n",
    "    print(\"b[2]:\", b[2])\n",
    "    \n",
    "    c = b.view(batch_size, ps.NLAYERS, -1)\n",
    "    print(\"\\nc shape:\", c.shape)\n",
    "    print(\"c[2]:\", c[2])\n",
    "\n",
    "    new_target = targets.view(batch_size, -1)\n",
    "    print(\"\\nlinearised targets shape:\", new_target.shape)\n",
    "    print(\"linearised targtes[2]:\", new_target[2])\n",
    "    print(\"\")\n",
    "    \n",
    "    break"
   ]
  },
  {
   "cell_type": "code",
   "execution_count": null,
   "metadata": {},
   "outputs": [],
   "source": [
    "# Legacy transform: not needed\n",
    "\n",
    "def pad(muon_hits, max_n_hit):\n",
    "    padded_array = np.zeros(max_n_hit, dtype=ED.hit_dtype)\n",
    "    for i, hit in enumerate(muon_hits):\n",
    "        padded_array[i]['bx']     = hit['bx']\n",
    "        padded_array[i]['tdc']    = hit['tdc']\n",
    "        padded_array[i]['label']  = hit['label']\n",
    "        padded_array[i]['signal'] = hit['signal']\n",
    "\n",
    "    return padded_array"
   ]
  },
  {
   "cell_type": "code",
   "execution_count": null,
   "metadata": {},
   "outputs": [],
   "source": [
    "def event_to_matrix(event,rec=True):\n",
    "    tmp_matrix = event['tdc']*(25/30)+event['bx']*25\n",
    "    tmp_matrix[tmp_matrix <0] = 0\n",
    "    \n",
    "    min_value = np.min(tmp_matrix)\n",
    "    max_value = np.max(tmp_matrix)\n",
    "    \n",
    "    tmp_matrix = (tmp_matrix - min_value) / (max_value - min_value)\n",
    "    \n",
    "    if rec:\n",
    "        tmp_matrix[tmp_matrix > 0] = 1/tmp_matrix[tmp_matrix > 0]\n",
    "        \n",
    "        min_value = np.min(tmp_matrix)\n",
    "        max_value = np.max(tmp_matrix)\n",
    "\n",
    "        tmp_matrix = (tmp_matrix - min_value) / (max_value - min_value)\n",
    "        \n",
    "    return tmp_matrix"
   ]
  }
 ],
 "metadata": {
  "colab": {
   "include_colab_link": true,
   "provenance": []
  },
  "kernelspec": {
   "display_name": "Python 3 (ipykernel)",
   "language": "python",
   "name": "python3"
  },
  "language_info": {
   "codemirror_mode": {
    "name": "ipython",
    "version": 3
   },
   "file_extension": ".py",
   "mimetype": "text/x-python",
   "name": "python",
   "nbconvert_exporter": "python",
   "pygments_lexer": "ipython3",
   "version": "3.8.18"
  }
 },
 "nbformat": 4,
 "nbformat_minor": 1
}
